{
  "cells": [
    {
      "cell_type": "code",
      "execution_count": null,
      "metadata": {
        "id": "PJ9h7rdgSyp4"
      },
      "outputs": [],
      "source": [
        "import pandas as pd\n",
        "import re\n",
        "import seaborn as sns\n",
        "import matplotlib.pyplot as plt\n",
        "import numpy as np\n",
        "from sklearn.model_selection import train_test_split"
      ]
    },
    {
      "cell_type": "code",
      "execution_count": null,
      "metadata": {
        "colab": {
          "base_uri": "https://localhost:8080/"
        },
        "id": "-MfcALlVS3xW",
        "outputId": "6267457b-a9a9-462d-f4ac-84be2e10534f"
      },
      "outputs": [
        {
          "name": "stdout",
          "output_type": "stream",
          "text": [
            "Requirement already satisfied: textblob in /usr/local/lib/python3.10/dist-packages (0.17.1)\n",
            "Requirement already satisfied: nltk>=3.1 in /usr/local/lib/python3.10/dist-packages (from textblob) (3.8.1)\n",
            "Requirement already satisfied: click in /usr/local/lib/python3.10/dist-packages (from nltk>=3.1->textblob) (8.1.7)\n",
            "Requirement already satisfied: joblib in /usr/local/lib/python3.10/dist-packages (from nltk>=3.1->textblob) (1.3.2)\n",
            "Requirement already satisfied: regex>=2021.8.3 in /usr/local/lib/python3.10/dist-packages (from nltk>=3.1->textblob) (2023.12.25)\n",
            "Requirement already satisfied: tqdm in /usr/local/lib/python3.10/dist-packages (from nltk>=3.1->textblob) (4.66.2)\n"
          ]
        }
      ],
      "source": [
        "!pip install textblob"
      ]
    },
    {
      "cell_type": "code",
      "execution_count": null,
      "metadata": {
        "colab": {
          "base_uri": "https://localhost:8080/"
        },
        "id": "UHo5ZSJ5S-DH",
        "outputId": "a3dca790-72d0-4f54-9812-b1cac7e9a36b"
      },
      "outputs": [
        {
          "name": "stderr",
          "output_type": "stream",
          "text": [
            "[nltk_data] Downloading package punkt to /root/nltk_data...\n",
            "[nltk_data]   Unzipping tokenizers/punkt.zip.\n"
          ]
        },
        {
          "data": {
            "text/plain": [
              "True"
            ]
          },
          "execution_count": 3,
          "metadata": {},
          "output_type": "execute_result"
        }
      ],
      "source": [
        "from textblob import TextBlob\n",
        "import nltk\n",
        "from nltk.stem import PorterStemmer\n",
        "from nltk.tokenize import word_tokenize\n",
        "\n",
        "nltk.download('punkt')"
      ]
    },
    {
      "cell_type": "code",
      "execution_count": null,
      "metadata": {
        "colab": {
          "base_uri": "https://localhost:8080/",
          "height": 423
        },
        "id": "5F5Wn_OTTD1H",
        "outputId": "537e8b4a-41d3-4421-aa7e-77540065d4f3"
      },
      "outputs": [
        {
          "data": {
            "application/vnd.google.colaboratory.intrinsic+json": {
              "summary": "{\n  \"name\": \"data\",\n  \"rows\": 2461,\n  \"fields\": [\n    {\n      \"column\": \"full_text\",\n      \"properties\": {\n        \"dtype\": \"string\",\n        \"num_unique_values\": 2461,\n        \"samples\": [\n          \"ganjar mahfud pimpin yang dukung jokowi bukti loyalitas dan soliditas dalam politik\",\n          \"ganjar kaesangp erinagudono pestapestapora sheilaon7 memang keren banget deh pak ini aku suka banget hebat mahfud juara debat\",\n          \"mesra dan akrab keluarga ganjar pranowo adalah cermin bahwa bahagia pribadi dapat jadi energi positif dalam jalan tugas negara\"\n        ],\n        \"semantic_type\": \"\",\n        \"description\": \"\"\n      }\n    },\n    {\n      \"column\": \"label\",\n      \"properties\": {\n        \"dtype\": \"category\",\n        \"num_unique_values\": 7,\n        \"samples\": [\n          \"negatif\",\n          \"netral\",\n          \"positifnetral\"\n        ],\n        \"semantic_type\": \"\",\n        \"description\": \"\"\n      }\n    }\n  ]\n}",
              "type": "dataframe",
              "variable_name": "data"
            },
            "text/html": [
              "\n",
              "  <div id=\"df-ff781ae3-f308-4f50-86da-76a1a43468b8\" class=\"colab-df-container\">\n",
              "    <div>\n",
              "<style scoped>\n",
              "    .dataframe tbody tr th:only-of-type {\n",
              "        vertical-align: middle;\n",
              "    }\n",
              "\n",
              "    .dataframe tbody tr th {\n",
              "        vertical-align: top;\n",
              "    }\n",
              "\n",
              "    .dataframe thead th {\n",
              "        text-align: right;\n",
              "    }\n",
              "</style>\n",
              "<table border=\"1\" class=\"dataframe\">\n",
              "  <thead>\n",
              "    <tr style=\"text-align: right;\">\n",
              "      <th></th>\n",
              "      <th>full_text</th>\n",
              "      <th>label</th>\n",
              "    </tr>\n",
              "  </thead>\n",
              "  <tbody>\n",
              "    <tr>\n",
              "      <th>0</th>\n",
              "      <td>pasti anies tidak punya prestasi</td>\n",
              "      <td>negatif</td>\n",
              "    </tr>\n",
              "    <tr>\n",
              "      <th>1</th>\n",
              "      <td>suasana desa memang selalu senang udara segar ...</td>\n",
              "      <td>netral</td>\n",
              "    </tr>\n",
              "    <tr>\n",
              "      <th>2</th>\n",
              "      <td>program anies hanya ubah nama rumah sakit se i...</td>\n",
              "      <td>negatif</td>\n",
              "    </tr>\n",
              "    <tr>\n",
              "      <th>3</th>\n",
              "      <td>anies bohong dan bohong tanpa rasa salah</td>\n",
              "      <td>negatif</td>\n",
              "    </tr>\n",
              "    <tr>\n",
              "      <th>4</th>\n",
              "      <td>tidak bicara sesuai fakta anies dengan lantang...</td>\n",
              "      <td>negatif</td>\n",
              "    </tr>\n",
              "    <tr>\n",
              "      <th>...</th>\n",
              "      <td>...</td>\n",
              "      <td>...</td>\n",
              "    </tr>\n",
              "    <tr>\n",
              "      <th>2456</th>\n",
              "      <td>kata sila cek di gugel udah banyak swasta yang...</td>\n",
              "      <td>netral</td>\n",
              "    </tr>\n",
              "    <tr>\n",
              "      <th>2457</th>\n",
              "      <td>yang penting bukan tugas partai apalagi bokeper</td>\n",
              "      <td>netral</td>\n",
              "    </tr>\n",
              "    <tr>\n",
              "      <th>2458</th>\n",
              "      <td>solo bukti bahwa gibran punya rencana ekonomi ...</td>\n",
              "      <td>positif</td>\n",
              "    </tr>\n",
              "    <tr>\n",
              "      <th>2459</th>\n",
              "      <td>tapi fans nya yang muslim pada tidak paling im...</td>\n",
              "      <td>netral</td>\n",
              "    </tr>\n",
              "    <tr>\n",
              "      <th>2460</th>\n",
              "      <td>solo yang sukses di bawah gibran adalah bukti ...</td>\n",
              "      <td>positif</td>\n",
              "    </tr>\n",
              "  </tbody>\n",
              "</table>\n",
              "<p>2461 rows × 2 columns</p>\n",
              "</div>\n",
              "    <div class=\"colab-df-buttons\">\n",
              "\n",
              "  <div class=\"colab-df-container\">\n",
              "    <button class=\"colab-df-convert\" onclick=\"convertToInteractive('df-ff781ae3-f308-4f50-86da-76a1a43468b8')\"\n",
              "            title=\"Convert this dataframe to an interactive table.\"\n",
              "            style=\"display:none;\">\n",
              "\n",
              "  <svg xmlns=\"http://www.w3.org/2000/svg\" height=\"24px\" viewBox=\"0 -960 960 960\">\n",
              "    <path d=\"M120-120v-720h720v720H120Zm60-500h600v-160H180v160Zm220 220h160v-160H400v160Zm0 220h160v-160H400v160ZM180-400h160v-160H180v160Zm440 0h160v-160H620v160ZM180-180h160v-160H180v160Zm440 0h160v-160H620v160Z\"/>\n",
              "  </svg>\n",
              "    </button>\n",
              "\n",
              "  <style>\n",
              "    .colab-df-container {\n",
              "      display:flex;\n",
              "      gap: 12px;\n",
              "    }\n",
              "\n",
              "    .colab-df-convert {\n",
              "      background-color: #E8F0FE;\n",
              "      border: none;\n",
              "      border-radius: 50%;\n",
              "      cursor: pointer;\n",
              "      display: none;\n",
              "      fill: #1967D2;\n",
              "      height: 32px;\n",
              "      padding: 0 0 0 0;\n",
              "      width: 32px;\n",
              "    }\n",
              "\n",
              "    .colab-df-convert:hover {\n",
              "      background-color: #E2EBFA;\n",
              "      box-shadow: 0px 1px 2px rgba(60, 64, 67, 0.3), 0px 1px 3px 1px rgba(60, 64, 67, 0.15);\n",
              "      fill: #174EA6;\n",
              "    }\n",
              "\n",
              "    .colab-df-buttons div {\n",
              "      margin-bottom: 4px;\n",
              "    }\n",
              "\n",
              "    [theme=dark] .colab-df-convert {\n",
              "      background-color: #3B4455;\n",
              "      fill: #D2E3FC;\n",
              "    }\n",
              "\n",
              "    [theme=dark] .colab-df-convert:hover {\n",
              "      background-color: #434B5C;\n",
              "      box-shadow: 0px 1px 3px 1px rgba(0, 0, 0, 0.15);\n",
              "      filter: drop-shadow(0px 1px 2px rgba(0, 0, 0, 0.3));\n",
              "      fill: #FFFFFF;\n",
              "    }\n",
              "  </style>\n",
              "\n",
              "    <script>\n",
              "      const buttonEl =\n",
              "        document.querySelector('#df-ff781ae3-f308-4f50-86da-76a1a43468b8 button.colab-df-convert');\n",
              "      buttonEl.style.display =\n",
              "        google.colab.kernel.accessAllowed ? 'block' : 'none';\n",
              "\n",
              "      async function convertToInteractive(key) {\n",
              "        const element = document.querySelector('#df-ff781ae3-f308-4f50-86da-76a1a43468b8');\n",
              "        const dataTable =\n",
              "          await google.colab.kernel.invokeFunction('convertToInteractive',\n",
              "                                                    [key], {});\n",
              "        if (!dataTable) return;\n",
              "\n",
              "        const docLinkHtml = 'Like what you see? Visit the ' +\n",
              "          '<a target=\"_blank\" href=https://colab.research.google.com/notebooks/data_table.ipynb>data table notebook</a>'\n",
              "          + ' to learn more about interactive tables.';\n",
              "        element.innerHTML = '';\n",
              "        dataTable['output_type'] = 'display_data';\n",
              "        await google.colab.output.renderOutput(dataTable, element);\n",
              "        const docLink = document.createElement('div');\n",
              "        docLink.innerHTML = docLinkHtml;\n",
              "        element.appendChild(docLink);\n",
              "      }\n",
              "    </script>\n",
              "  </div>\n",
              "\n",
              "\n",
              "<div id=\"df-b3430eae-b8d0-4e9c-8762-b4c92f8b474d\">\n",
              "  <button class=\"colab-df-quickchart\" onclick=\"quickchart('df-b3430eae-b8d0-4e9c-8762-b4c92f8b474d')\"\n",
              "            title=\"Suggest charts\"\n",
              "            style=\"display:none;\">\n",
              "\n",
              "<svg xmlns=\"http://www.w3.org/2000/svg\" height=\"24px\"viewBox=\"0 0 24 24\"\n",
              "     width=\"24px\">\n",
              "    <g>\n",
              "        <path d=\"M19 3H5c-1.1 0-2 .9-2 2v14c0 1.1.9 2 2 2h14c1.1 0 2-.9 2-2V5c0-1.1-.9-2-2-2zM9 17H7v-7h2v7zm4 0h-2V7h2v10zm4 0h-2v-4h2v4z\"/>\n",
              "    </g>\n",
              "</svg>\n",
              "  </button>\n",
              "\n",
              "<style>\n",
              "  .colab-df-quickchart {\n",
              "      --bg-color: #E8F0FE;\n",
              "      --fill-color: #1967D2;\n",
              "      --hover-bg-color: #E2EBFA;\n",
              "      --hover-fill-color: #174EA6;\n",
              "      --disabled-fill-color: #AAA;\n",
              "      --disabled-bg-color: #DDD;\n",
              "  }\n",
              "\n",
              "  [theme=dark] .colab-df-quickchart {\n",
              "      --bg-color: #3B4455;\n",
              "      --fill-color: #D2E3FC;\n",
              "      --hover-bg-color: #434B5C;\n",
              "      --hover-fill-color: #FFFFFF;\n",
              "      --disabled-bg-color: #3B4455;\n",
              "      --disabled-fill-color: #666;\n",
              "  }\n",
              "\n",
              "  .colab-df-quickchart {\n",
              "    background-color: var(--bg-color);\n",
              "    border: none;\n",
              "    border-radius: 50%;\n",
              "    cursor: pointer;\n",
              "    display: none;\n",
              "    fill: var(--fill-color);\n",
              "    height: 32px;\n",
              "    padding: 0;\n",
              "    width: 32px;\n",
              "  }\n",
              "\n",
              "  .colab-df-quickchart:hover {\n",
              "    background-color: var(--hover-bg-color);\n",
              "    box-shadow: 0 1px 2px rgba(60, 64, 67, 0.3), 0 1px 3px 1px rgba(60, 64, 67, 0.15);\n",
              "    fill: var(--button-hover-fill-color);\n",
              "  }\n",
              "\n",
              "  .colab-df-quickchart-complete:disabled,\n",
              "  .colab-df-quickchart-complete:disabled:hover {\n",
              "    background-color: var(--disabled-bg-color);\n",
              "    fill: var(--disabled-fill-color);\n",
              "    box-shadow: none;\n",
              "  }\n",
              "\n",
              "  .colab-df-spinner {\n",
              "    border: 2px solid var(--fill-color);\n",
              "    border-color: transparent;\n",
              "    border-bottom-color: var(--fill-color);\n",
              "    animation:\n",
              "      spin 1s steps(1) infinite;\n",
              "  }\n",
              "\n",
              "  @keyframes spin {\n",
              "    0% {\n",
              "      border-color: transparent;\n",
              "      border-bottom-color: var(--fill-color);\n",
              "      border-left-color: var(--fill-color);\n",
              "    }\n",
              "    20% {\n",
              "      border-color: transparent;\n",
              "      border-left-color: var(--fill-color);\n",
              "      border-top-color: var(--fill-color);\n",
              "    }\n",
              "    30% {\n",
              "      border-color: transparent;\n",
              "      border-left-color: var(--fill-color);\n",
              "      border-top-color: var(--fill-color);\n",
              "      border-right-color: var(--fill-color);\n",
              "    }\n",
              "    40% {\n",
              "      border-color: transparent;\n",
              "      border-right-color: var(--fill-color);\n",
              "      border-top-color: var(--fill-color);\n",
              "    }\n",
              "    60% {\n",
              "      border-color: transparent;\n",
              "      border-right-color: var(--fill-color);\n",
              "    }\n",
              "    80% {\n",
              "      border-color: transparent;\n",
              "      border-right-color: var(--fill-color);\n",
              "      border-bottom-color: var(--fill-color);\n",
              "    }\n",
              "    90% {\n",
              "      border-color: transparent;\n",
              "      border-bottom-color: var(--fill-color);\n",
              "    }\n",
              "  }\n",
              "</style>\n",
              "\n",
              "  <script>\n",
              "    async function quickchart(key) {\n",
              "      const quickchartButtonEl =\n",
              "        document.querySelector('#' + key + ' button');\n",
              "      quickchartButtonEl.disabled = true;  // To prevent multiple clicks.\n",
              "      quickchartButtonEl.classList.add('colab-df-spinner');\n",
              "      try {\n",
              "        const charts = await google.colab.kernel.invokeFunction(\n",
              "            'suggestCharts', [key], {});\n",
              "      } catch (error) {\n",
              "        console.error('Error during call to suggestCharts:', error);\n",
              "      }\n",
              "      quickchartButtonEl.classList.remove('colab-df-spinner');\n",
              "      quickchartButtonEl.classList.add('colab-df-quickchart-complete');\n",
              "    }\n",
              "    (() => {\n",
              "      let quickchartButtonEl =\n",
              "        document.querySelector('#df-b3430eae-b8d0-4e9c-8762-b4c92f8b474d button');\n",
              "      quickchartButtonEl.style.display =\n",
              "        google.colab.kernel.accessAllowed ? 'block' : 'none';\n",
              "    })();\n",
              "  </script>\n",
              "</div>\n",
              "    </div>\n",
              "  </div>\n"
            ],
            "text/plain": [
              "                                              full_text    label\n",
              "0                      pasti anies tidak punya prestasi  negatif\n",
              "1     suasana desa memang selalu senang udara segar ...   netral\n",
              "2     program anies hanya ubah nama rumah sakit se i...  negatif\n",
              "3              anies bohong dan bohong tanpa rasa salah  negatif\n",
              "4     tidak bicara sesuai fakta anies dengan lantang...  negatif\n",
              "...                                                 ...      ...\n",
              "2456  kata sila cek di gugel udah banyak swasta yang...   netral\n",
              "2457    yang penting bukan tugas partai apalagi bokeper   netral\n",
              "2458  solo bukti bahwa gibran punya rencana ekonomi ...  positif\n",
              "2459  tapi fans nya yang muslim pada tidak paling im...   netral\n",
              "2460  solo yang sukses di bawah gibran adalah bukti ...  positif\n",
              "\n",
              "[2461 rows x 2 columns]"
            ]
          },
          "execution_count": 4,
          "metadata": {},
          "output_type": "execute_result"
        }
      ],
      "source": [
        "data = pd.read_csv('dataset-pemilu.csv')\n",
        "data"
      ]
    },
    {
      "cell_type": "code",
      "execution_count": null,
      "metadata": {
        "id": "bT35NDiYTKDj"
      },
      "outputs": [],
      "source": [
        "# dataset = data\n",
        "# dataset = [tuple(x) for x in dataset.to_records(index=False)]"
      ]
    },
    {
      "cell_type": "code",
      "execution_count": null,
      "metadata": {
        "id": "iEOTMOX4TNen"
      },
      "outputs": [],
      "source": [
        "# import random\n",
        "\n",
        "# set_positif = []\n",
        "# set_negatif = []\n",
        "# set_netral = []\n",
        "\n",
        "# for n in dataset:\n",
        "#   if(n[1] == 'positif'):\n",
        "#     set_positif.append(n)\n",
        "#   elif(n[1] == 'negatif'):\n",
        "#     set_negatif.append(n)\n",
        "#   else:\n",
        "#     set_netral.append(n)\n",
        "# set_positif = random.sample(set_positif, k=int(len(set_positif)*4/5))\n",
        "# set_negatif = random.sample(set_negatif, k=int(len(set_negatif)*4/5))\n",
        "# set_netral = random.sample(set_netral, k=int(len(set_netral)*4/5))\n",
        "\n",
        "# train = set_positif + set_negatif + set_netral\n",
        "\n",
        "# test = list(set(dataset) - set(train))\n",
        "\n",
        "# # 20% of the test data\n",
        "# test_set = random.sample(test, k=int(len(test)*1/5))\n",
        "\n",
        "# train_set = []\n",
        "\n",
        "# for n in train:\n",
        "#   train_set.append(n)"
      ]
    },
    {
      "cell_type": "code",
      "execution_count": null,
      "metadata": {
        "id": "mf4qUkQoTORD"
      },
      "outputs": [],
      "source": [
        "# train_data = pd.DataFrame(train_set, columns=[\"full_text\", \"label\"])\n",
        "# test_data = pd.DataFrame(test_set, columns=[\"full_text\", \"label\"])"
      ]
    },
    {
      "cell_type": "code",
      "execution_count": null,
      "metadata": {
        "id": "OwFEMPMfm6vF"
      },
      "outputs": [],
      "source": [
        "train_data, test_data = train_test_split(data, random_state=42, test_size=0.2)"
      ]
    },
    {
      "cell_type": "code",
      "execution_count": null,
      "metadata": {
        "id": "l-UIqEK9nFuk"
      },
      "outputs": [],
      "source": [
        "train = [tuple(x) for x in train_data.to_records(index=False)]\n",
        "test = [tuple(x) for x in test_data.to_records(index=False)]"
      ]
    },
    {
      "cell_type": "code",
      "execution_count": null,
      "metadata": {
        "colab": {
          "base_uri": "https://localhost:8080/"
        },
        "id": "Kj9K6eaYTQx7",
        "outputId": "3c436702-51a2-44c0-bedf-f2c7ffbed587"
      },
      "outputs": [
        {
          "name": "stdout",
          "output_type": "stream",
          "text": [
            "akurasi:  0.819585534335636\n"
          ]
        }
      ],
      "source": [
        "from textblob.classifiers import NaiveBayesClassifier\n",
        "cl = NaiveBayesClassifier(train)\n",
        "print('akurasi: ', cl.accuracy(dataset))"
      ]
    },
    {
      "cell_type": "code",
      "execution_count": null,
      "metadata": {
        "colab": {
          "base_uri": "https://localhost:8080/"
        },
        "id": "UVkjbOGzTRw3",
        "outputId": "b9dea075-b19b-4289-9d33-be11d974496e"
      },
      "outputs": [
        {
          "name": "stdout",
          "output_type": "stream",
          "text": [
            "Hasil analisis data:\n",
            "Positif = 1583\n",
            "Netral = 657\n",
            "Negatif = 221\n",
            "total data = 2461\n"
          ]
        }
      ],
      "source": [
        "#labelling\n",
        "data_tweet = list(data['full_text'])\n",
        "polaritas = 0\n",
        "status = []\n",
        "total_positif_naive = total_negatif_naive = total_netral_naive = total = 0\n",
        "\n",
        "for i, tweet in enumerate(data_tweet):\n",
        "  analysis = TextBlob(tweet, classifier=cl)\n",
        "\n",
        "  if analysis.classify() == 'positif':\n",
        "    total_positif_naive += 1\n",
        "  elif analysis.classify() == 'netral':\n",
        "    total_netral_naive += 1\n",
        "  else:\n",
        "    total_negatif_naive += 1\n",
        "  total += 1\n",
        "  status.append(analysis.classify())\n",
        "\n",
        "print(f'Hasil analisis data:\\nPositif = {total_positif_naive}\\nNetral = {total_netral_naive}\\nNegatif = {total_negatif_naive}')\n",
        "print(f'total data = {total}')"
      ]
    },
    {
      "cell_type": "code",
      "execution_count": null,
      "metadata": {
        "colab": {
          "base_uri": "https://localhost:8080/",
          "height": 423
        },
        "id": "YR2sp50VTZZq",
        "outputId": "8a062554-acde-4b16-c5e5-d640bcc0d127"
      },
      "outputs": [
        {
          "data": {
            "application/vnd.google.colaboratory.intrinsic+json": {
              "summary": "{\n  \"name\": \"data\",\n  \"rows\": 2461,\n  \"fields\": [\n    {\n      \"column\": \"full_text\",\n      \"properties\": {\n        \"dtype\": \"string\",\n        \"num_unique_values\": 2461,\n        \"samples\": [\n          \"ganjar mahfud pimpin yang dukung jokowi bukti loyalitas dan soliditas dalam politik\",\n          \"ganjar kaesangp erinagudono pestapestapora sheilaon7 memang keren banget deh pak ini aku suka banget hebat mahfud juara debat\",\n          \"mesra dan akrab keluarga ganjar pranowo adalah cermin bahwa bahagia pribadi dapat jadi energi positif dalam jalan tugas negara\"\n        ],\n        \"semantic_type\": \"\",\n        \"description\": \"\"\n      }\n    },\n    {\n      \"column\": \"label\",\n      \"properties\": {\n        \"dtype\": \"category\",\n        \"num_unique_values\": 7,\n        \"samples\": [\n          \"negatif\",\n          \"netral\",\n          \"positifnetral\"\n        ],\n        \"semantic_type\": \"\",\n        \"description\": \"\"\n      }\n    },\n    {\n      \"column\": \"klasifikasi_bayes\",\n      \"properties\": {\n        \"dtype\": \"category\",\n        \"num_unique_values\": 3,\n        \"samples\": [\n          \"positif\",\n          \"netral\",\n          \"negatif\"\n        ],\n        \"semantic_type\": \"\",\n        \"description\": \"\"\n      }\n    }\n  ]\n}",
              "type": "dataframe",
              "variable_name": "data"
            },
            "text/html": [
              "\n",
              "  <div id=\"df-64fe7c58-fac0-480b-b651-b3bf1e081bf9\" class=\"colab-df-container\">\n",
              "    <div>\n",
              "<style scoped>\n",
              "    .dataframe tbody tr th:only-of-type {\n",
              "        vertical-align: middle;\n",
              "    }\n",
              "\n",
              "    .dataframe tbody tr th {\n",
              "        vertical-align: top;\n",
              "    }\n",
              "\n",
              "    .dataframe thead th {\n",
              "        text-align: right;\n",
              "    }\n",
              "</style>\n",
              "<table border=\"1\" class=\"dataframe\">\n",
              "  <thead>\n",
              "    <tr style=\"text-align: right;\">\n",
              "      <th></th>\n",
              "      <th>full_text</th>\n",
              "      <th>label</th>\n",
              "      <th>klasifikasi_bayes</th>\n",
              "    </tr>\n",
              "  </thead>\n",
              "  <tbody>\n",
              "    <tr>\n",
              "      <th>0</th>\n",
              "      <td>pasti anies tidak punya prestasi</td>\n",
              "      <td>negatif</td>\n",
              "      <td>positif</td>\n",
              "    </tr>\n",
              "    <tr>\n",
              "      <th>1</th>\n",
              "      <td>suasana desa memang selalu senang udara segar ...</td>\n",
              "      <td>netral</td>\n",
              "      <td>netral</td>\n",
              "    </tr>\n",
              "    <tr>\n",
              "      <th>2</th>\n",
              "      <td>program anies hanya ubah nama rumah sakit se i...</td>\n",
              "      <td>negatif</td>\n",
              "      <td>negatif</td>\n",
              "    </tr>\n",
              "    <tr>\n",
              "      <th>3</th>\n",
              "      <td>anies bohong dan bohong tanpa rasa salah</td>\n",
              "      <td>negatif</td>\n",
              "      <td>positif</td>\n",
              "    </tr>\n",
              "    <tr>\n",
              "      <th>4</th>\n",
              "      <td>tidak bicara sesuai fakta anies dengan lantang...</td>\n",
              "      <td>negatif</td>\n",
              "      <td>negatif</td>\n",
              "    </tr>\n",
              "    <tr>\n",
              "      <th>...</th>\n",
              "      <td>...</td>\n",
              "      <td>...</td>\n",
              "      <td>...</td>\n",
              "    </tr>\n",
              "    <tr>\n",
              "      <th>2456</th>\n",
              "      <td>kata sila cek di gugel udah banyak swasta yang...</td>\n",
              "      <td>netral</td>\n",
              "      <td>netral</td>\n",
              "    </tr>\n",
              "    <tr>\n",
              "      <th>2457</th>\n",
              "      <td>yang penting bukan tugas partai apalagi bokeper</td>\n",
              "      <td>netral</td>\n",
              "      <td>positif</td>\n",
              "    </tr>\n",
              "    <tr>\n",
              "      <th>2458</th>\n",
              "      <td>solo bukti bahwa gibran punya rencana ekonomi ...</td>\n",
              "      <td>positif</td>\n",
              "      <td>positif</td>\n",
              "    </tr>\n",
              "    <tr>\n",
              "      <th>2459</th>\n",
              "      <td>tapi fans nya yang muslim pada tidak paling im...</td>\n",
              "      <td>netral</td>\n",
              "      <td>netral</td>\n",
              "    </tr>\n",
              "    <tr>\n",
              "      <th>2460</th>\n",
              "      <td>solo yang sukses di bawah gibran adalah bukti ...</td>\n",
              "      <td>positif</td>\n",
              "      <td>positif</td>\n",
              "    </tr>\n",
              "  </tbody>\n",
              "</table>\n",
              "<p>2461 rows × 3 columns</p>\n",
              "</div>\n",
              "    <div class=\"colab-df-buttons\">\n",
              "\n",
              "  <div class=\"colab-df-container\">\n",
              "    <button class=\"colab-df-convert\" onclick=\"convertToInteractive('df-64fe7c58-fac0-480b-b651-b3bf1e081bf9')\"\n",
              "            title=\"Convert this dataframe to an interactive table.\"\n",
              "            style=\"display:none;\">\n",
              "\n",
              "  <svg xmlns=\"http://www.w3.org/2000/svg\" height=\"24px\" viewBox=\"0 -960 960 960\">\n",
              "    <path d=\"M120-120v-720h720v720H120Zm60-500h600v-160H180v160Zm220 220h160v-160H400v160Zm0 220h160v-160H400v160ZM180-400h160v-160H180v160Zm440 0h160v-160H620v160ZM180-180h160v-160H180v160Zm440 0h160v-160H620v160Z\"/>\n",
              "  </svg>\n",
              "    </button>\n",
              "\n",
              "  <style>\n",
              "    .colab-df-container {\n",
              "      display:flex;\n",
              "      gap: 12px;\n",
              "    }\n",
              "\n",
              "    .colab-df-convert {\n",
              "      background-color: #E8F0FE;\n",
              "      border: none;\n",
              "      border-radius: 50%;\n",
              "      cursor: pointer;\n",
              "      display: none;\n",
              "      fill: #1967D2;\n",
              "      height: 32px;\n",
              "      padding: 0 0 0 0;\n",
              "      width: 32px;\n",
              "    }\n",
              "\n",
              "    .colab-df-convert:hover {\n",
              "      background-color: #E2EBFA;\n",
              "      box-shadow: 0px 1px 2px rgba(60, 64, 67, 0.3), 0px 1px 3px 1px rgba(60, 64, 67, 0.15);\n",
              "      fill: #174EA6;\n",
              "    }\n",
              "\n",
              "    .colab-df-buttons div {\n",
              "      margin-bottom: 4px;\n",
              "    }\n",
              "\n",
              "    [theme=dark] .colab-df-convert {\n",
              "      background-color: #3B4455;\n",
              "      fill: #D2E3FC;\n",
              "    }\n",
              "\n",
              "    [theme=dark] .colab-df-convert:hover {\n",
              "      background-color: #434B5C;\n",
              "      box-shadow: 0px 1px 3px 1px rgba(0, 0, 0, 0.15);\n",
              "      filter: drop-shadow(0px 1px 2px rgba(0, 0, 0, 0.3));\n",
              "      fill: #FFFFFF;\n",
              "    }\n",
              "  </style>\n",
              "\n",
              "    <script>\n",
              "      const buttonEl =\n",
              "        document.querySelector('#df-64fe7c58-fac0-480b-b651-b3bf1e081bf9 button.colab-df-convert');\n",
              "      buttonEl.style.display =\n",
              "        google.colab.kernel.accessAllowed ? 'block' : 'none';\n",
              "\n",
              "      async function convertToInteractive(key) {\n",
              "        const element = document.querySelector('#df-64fe7c58-fac0-480b-b651-b3bf1e081bf9');\n",
              "        const dataTable =\n",
              "          await google.colab.kernel.invokeFunction('convertToInteractive',\n",
              "                                                    [key], {});\n",
              "        if (!dataTable) return;\n",
              "\n",
              "        const docLinkHtml = 'Like what you see? Visit the ' +\n",
              "          '<a target=\"_blank\" href=https://colab.research.google.com/notebooks/data_table.ipynb>data table notebook</a>'\n",
              "          + ' to learn more about interactive tables.';\n",
              "        element.innerHTML = '';\n",
              "        dataTable['output_type'] = 'display_data';\n",
              "        await google.colab.output.renderOutput(dataTable, element);\n",
              "        const docLink = document.createElement('div');\n",
              "        docLink.innerHTML = docLinkHtml;\n",
              "        element.appendChild(docLink);\n",
              "      }\n",
              "    </script>\n",
              "  </div>\n",
              "\n",
              "\n",
              "<div id=\"df-319ba8f7-0423-426c-b7a7-93d39c6bd623\">\n",
              "  <button class=\"colab-df-quickchart\" onclick=\"quickchart('df-319ba8f7-0423-426c-b7a7-93d39c6bd623')\"\n",
              "            title=\"Suggest charts\"\n",
              "            style=\"display:none;\">\n",
              "\n",
              "<svg xmlns=\"http://www.w3.org/2000/svg\" height=\"24px\"viewBox=\"0 0 24 24\"\n",
              "     width=\"24px\">\n",
              "    <g>\n",
              "        <path d=\"M19 3H5c-1.1 0-2 .9-2 2v14c0 1.1.9 2 2 2h14c1.1 0 2-.9 2-2V5c0-1.1-.9-2-2-2zM9 17H7v-7h2v7zm4 0h-2V7h2v10zm4 0h-2v-4h2v4z\"/>\n",
              "    </g>\n",
              "</svg>\n",
              "  </button>\n",
              "\n",
              "<style>\n",
              "  .colab-df-quickchart {\n",
              "      --bg-color: #E8F0FE;\n",
              "      --fill-color: #1967D2;\n",
              "      --hover-bg-color: #E2EBFA;\n",
              "      --hover-fill-color: #174EA6;\n",
              "      --disabled-fill-color: #AAA;\n",
              "      --disabled-bg-color: #DDD;\n",
              "  }\n",
              "\n",
              "  [theme=dark] .colab-df-quickchart {\n",
              "      --bg-color: #3B4455;\n",
              "      --fill-color: #D2E3FC;\n",
              "      --hover-bg-color: #434B5C;\n",
              "      --hover-fill-color: #FFFFFF;\n",
              "      --disabled-bg-color: #3B4455;\n",
              "      --disabled-fill-color: #666;\n",
              "  }\n",
              "\n",
              "  .colab-df-quickchart {\n",
              "    background-color: var(--bg-color);\n",
              "    border: none;\n",
              "    border-radius: 50%;\n",
              "    cursor: pointer;\n",
              "    display: none;\n",
              "    fill: var(--fill-color);\n",
              "    height: 32px;\n",
              "    padding: 0;\n",
              "    width: 32px;\n",
              "  }\n",
              "\n",
              "  .colab-df-quickchart:hover {\n",
              "    background-color: var(--hover-bg-color);\n",
              "    box-shadow: 0 1px 2px rgba(60, 64, 67, 0.3), 0 1px 3px 1px rgba(60, 64, 67, 0.15);\n",
              "    fill: var(--button-hover-fill-color);\n",
              "  }\n",
              "\n",
              "  .colab-df-quickchart-complete:disabled,\n",
              "  .colab-df-quickchart-complete:disabled:hover {\n",
              "    background-color: var(--disabled-bg-color);\n",
              "    fill: var(--disabled-fill-color);\n",
              "    box-shadow: none;\n",
              "  }\n",
              "\n",
              "  .colab-df-spinner {\n",
              "    border: 2px solid var(--fill-color);\n",
              "    border-color: transparent;\n",
              "    border-bottom-color: var(--fill-color);\n",
              "    animation:\n",
              "      spin 1s steps(1) infinite;\n",
              "  }\n",
              "\n",
              "  @keyframes spin {\n",
              "    0% {\n",
              "      border-color: transparent;\n",
              "      border-bottom-color: var(--fill-color);\n",
              "      border-left-color: var(--fill-color);\n",
              "    }\n",
              "    20% {\n",
              "      border-color: transparent;\n",
              "      border-left-color: var(--fill-color);\n",
              "      border-top-color: var(--fill-color);\n",
              "    }\n",
              "    30% {\n",
              "      border-color: transparent;\n",
              "      border-left-color: var(--fill-color);\n",
              "      border-top-color: var(--fill-color);\n",
              "      border-right-color: var(--fill-color);\n",
              "    }\n",
              "    40% {\n",
              "      border-color: transparent;\n",
              "      border-right-color: var(--fill-color);\n",
              "      border-top-color: var(--fill-color);\n",
              "    }\n",
              "    60% {\n",
              "      border-color: transparent;\n",
              "      border-right-color: var(--fill-color);\n",
              "    }\n",
              "    80% {\n",
              "      border-color: transparent;\n",
              "      border-right-color: var(--fill-color);\n",
              "      border-bottom-color: var(--fill-color);\n",
              "    }\n",
              "    90% {\n",
              "      border-color: transparent;\n",
              "      border-bottom-color: var(--fill-color);\n",
              "    }\n",
              "  }\n",
              "</style>\n",
              "\n",
              "  <script>\n",
              "    async function quickchart(key) {\n",
              "      const quickchartButtonEl =\n",
              "        document.querySelector('#' + key + ' button');\n",
              "      quickchartButtonEl.disabled = true;  // To prevent multiple clicks.\n",
              "      quickchartButtonEl.classList.add('colab-df-spinner');\n",
              "      try {\n",
              "        const charts = await google.colab.kernel.invokeFunction(\n",
              "            'suggestCharts', [key], {});\n",
              "      } catch (error) {\n",
              "        console.error('Error during call to suggestCharts:', error);\n",
              "      }\n",
              "      quickchartButtonEl.classList.remove('colab-df-spinner');\n",
              "      quickchartButtonEl.classList.add('colab-df-quickchart-complete');\n",
              "    }\n",
              "    (() => {\n",
              "      let quickchartButtonEl =\n",
              "        document.querySelector('#df-319ba8f7-0423-426c-b7a7-93d39c6bd623 button');\n",
              "      quickchartButtonEl.style.display =\n",
              "        google.colab.kernel.accessAllowed ? 'block' : 'none';\n",
              "    })();\n",
              "  </script>\n",
              "</div>\n",
              "    </div>\n",
              "  </div>\n"
            ],
            "text/plain": [
              "                                              full_text    label  \\\n",
              "0                      pasti anies tidak punya prestasi  negatif   \n",
              "1     suasana desa memang selalu senang udara segar ...   netral   \n",
              "2     program anies hanya ubah nama rumah sakit se i...  negatif   \n",
              "3              anies bohong dan bohong tanpa rasa salah  negatif   \n",
              "4     tidak bicara sesuai fakta anies dengan lantang...  negatif   \n",
              "...                                                 ...      ...   \n",
              "2456  kata sila cek di gugel udah banyak swasta yang...   netral   \n",
              "2457    yang penting bukan tugas partai apalagi bokeper   netral   \n",
              "2458  solo bukti bahwa gibran punya rencana ekonomi ...  positif   \n",
              "2459  tapi fans nya yang muslim pada tidak paling im...   netral   \n",
              "2460  solo yang sukses di bawah gibran adalah bukti ...  positif   \n",
              "\n",
              "     klasifikasi_bayes  \n",
              "0              positif  \n",
              "1               netral  \n",
              "2              negatif  \n",
              "3              positif  \n",
              "4              negatif  \n",
              "...                ...  \n",
              "2456            netral  \n",
              "2457           positif  \n",
              "2458           positif  \n",
              "2459            netral  \n",
              "2460           positif  \n",
              "\n",
              "[2461 rows x 3 columns]"
            ]
          },
          "execution_count": 218,
          "metadata": {},
          "output_type": "execute_result"
        }
      ],
      "source": [
        "status = pd.DataFrame({'klasifikasi bayes': status})\n",
        "data['klasifikasi_bayes'] = status\n",
        "data"
      ]
    },
    {
      "cell_type": "markdown",
      "metadata": {
        "id": "yz6ogkKMYrg8"
      },
      "source": [
        "# Word2vec"
      ]
    },
    {
      "cell_type": "code",
      "execution_count": null,
      "metadata": {
        "id": "CaUlwgasW44F"
      },
      "outputs": [],
      "source": [
        "from sklearn.metrics import accuracy_score\n",
        "from sklearn.ensemble import RandomForestClassifier\n",
        "from sklearn.neighbors import KNeighborsClassifier\n",
        "from sklearn.svm import SVC\n",
        "from sklearn.model_selection import GridSearchCV\n",
        "from gensim.models import Word2Vec\n",
        "\n",
        "sentences = data['full_text'] # List teks\n",
        "tokenized_sentences = [sentence.split() for sentence in sentences]\n",
        "\n",
        "model = Word2Vec(tokenized_sentences, vector_size=100, window=5, min_count=1, workers=5)\n",
        "X = np.array([np.mean([model.wv[word] for word in sentence if word in model.wv.key_to_index], axis=0) for sentence in tokenized_sentences])\n",
        "labels = data['label']\n",
        "\n",
        "X_train, X_test, y_train, y_test = train_test_split(X, labels, test_size=0.2, random_state=42)"
      ]
    },
    {
      "cell_type": "code",
      "execution_count": null,
      "metadata": {
        "colab": {
          "base_uri": "https://localhost:8080/"
        },
        "id": "ftcqiDrgXN4R",
        "outputId": "efe66ef8-141f-487f-ebc8-f819992b43a9"
      },
      "outputs": [
        {
          "name": "stderr",
          "output_type": "stream",
          "text": [
            "/usr/local/lib/python3.10/dist-packages/sklearn/model_selection/_split.py:700: UserWarning: The least populated class in y has only 1 members, which is less than n_splits=5.\n",
            "  warnings.warn(\n"
          ]
        },
        {
          "name": "stdout",
          "output_type": "stream",
          "text": [
            "{'algorithm': 'auto', 'leaf_size': 30, 'n_neighbors': 10, 'p': 1, 'weights': 'distance'}\n",
            "== knn Accuracy ==\n",
            "knn Accuracy train: 1.0\n",
            "knn Accuracy test: 0.6592292089249493\n"
          ]
        }
      ],
      "source": [
        "# Klasifikasi dengan KNN\n",
        "param = {'weights':('uniform', 'distance'),\n",
        "         'algorithm':('auto', 'ball_tree', 'kd_tree', 'brute'),\n",
        "         'leaf_size':[30, 60, 90, 120],\n",
        "         'p':[1,2],\n",
        "         'n_neighbors':[1,2,3,4,5,6,7,8,9,10]}\n",
        "KNN = KNeighborsClassifier()\n",
        "knn_classifier = GridSearchCV(KNN, param)\n",
        "knn_classifier.fit(X_train, y_train)\n",
        "print(knn_classifier.best_params_)\n",
        "knn_predictions_train = knn_classifier.predict(X_train)\n",
        "knn_accuracy_train = accuracy_score(y_train, knn_predictions_train)\n",
        "knn_predictions_test = knn_classifier.predict(X_test)\n",
        "knn_accuracy_test = accuracy_score(y_test, knn_predictions_test)\n",
        "print(\"== knn Accuracy ==\")\n",
        "print(\"knn Accuracy train:\", knn_accuracy_train)\n",
        "print(\"knn Accuracy test:\", knn_accuracy_test)"
      ]
    },
    {
      "cell_type": "code",
      "execution_count": null,
      "metadata": {
        "colab": {
          "base_uri": "https://localhost:8080/"
        },
        "id": "ROzdWgG7eiSm",
        "outputId": "c09251ad-3133-4198-e7ca-e14be263ad62"
      },
      "outputs": [
        {
          "name": "stderr",
          "output_type": "stream",
          "text": [
            "/usr/local/lib/python3.10/dist-packages/sklearn/model_selection/_split.py:700: UserWarning: The least populated class in y has only 1 members, which is less than n_splits=5.\n",
            "  warnings.warn(\n"
          ]
        },
        {
          "name": "stdout",
          "output_type": "stream",
          "text": [
            "{'degree': 3, 'gamma': 'scale', 'kernel': 'poly'}\n",
            "== svm Accuracy ==\n",
            "svm Accuracy train: 0.676829268292683\n",
            "svm Accuracy test: 0.6389452332657201\n"
          ]
        }
      ],
      "source": [
        "param = {'kernel':('linear', 'poly', 'rbf', 'sigmoid'),\n",
        "         'degree':[1,2,3,4,5,6],\n",
        "         'gamma': ('scale', 'auto')}\n",
        "# Klasifikasi dengan SVM\n",
        "SVM = SVC()\n",
        "svm_classifier = GridSearchCV(SVM, param)\n",
        "svm_classifier.fit(X_train, y_train)\n",
        "print(svm_classifier.best_params_)\n",
        "svm_predictions_train = svm_classifier.predict(X_train)\n",
        "svm_accuracy_train = accuracy_score(y_train, svm_predictions_train)\n",
        "svm_predictions_test = svm_classifier.predict(X_test)\n",
        "svm_accuracy_test = accuracy_score(y_test, svm_predictions_test)\n",
        "print(\"== svm Accuracy ==\")\n",
        "print(\"svm Accuracy train:\", svm_accuracy_train)\n",
        "print(\"svm Accuracy test:\", svm_accuracy_test)"
      ]
    },
    {
      "cell_type": "code",
      "execution_count": null,
      "metadata": {
        "colab": {
          "base_uri": "https://localhost:8080/"
        },
        "id": "z7F5OLEofbGV",
        "outputId": "29fb754d-3ec8-489d-c26b-f30d70c8f6fa"
      },
      "outputs": [
        {
          "name": "stdout",
          "output_type": "stream",
          "text": [
            "== rfc Accuracy ==\n",
            "rfc Accuracy train: 0.649390243902439\n",
            "rfc Accuracy test: 0.6206896551724138\n"
          ]
        }
      ],
      "source": [
        "#klasifikasi dengan randomforest\n",
        "# param = {'n_estimators':[10,50,100,150,200,250],\n",
        "#          'criterion':('gini', 'entropy', 'log_loss'),\n",
        "#          'max_depth': [2,3,4,5,6,7,8,9,10],\n",
        "#          'max_features': ('sqrt', 'log2')}\n",
        "\n",
        "rfc_classifier = RandomForestClassifier(n_estimators=200, max_depth=3, criterion='gini')\n",
        "rfc_classifier.fit(X_train, y_train)\n",
        "rfc_predictions_train = rfc_classifier.predict(X_train)\n",
        "rfc_accuracy_train = accuracy_score(y_train, rfc_predictions_train)\n",
        "rfc_predictions_test = rfc_classifier.predict(X_test)\n",
        "rfc_accuracy_test = accuracy_score(y_test, rfc_predictions_test)\n",
        "print(\"== rfc Accuracy ==\")\n",
        "print(\"rfc Accuracy train:\", rfc_accuracy_train)\n",
        "print(\"rfc Accuracy test:\", rfc_accuracy_test)"
      ]
    },
    {
      "cell_type": "code",
      "execution_count": null,
      "metadata": {
        "colab": {
          "base_uri": "https://localhost:8080/"
        },
        "id": "H6vyNlt1YefE",
        "outputId": "dc008521-c00e-429f-ebd3-1e2ed85b09e4"
      },
      "outputs": [
        {
          "name": "stdout",
          "output_type": "stream",
          "text": [
            "== gbr Accuracy ==\n",
            "gbr Accuracy train: 0.9888211382113821\n",
            "gbr Accuracy test: 0.7018255578093306\n"
          ]
        }
      ],
      "source": [
        "from sklearn.ensemble import GradientBoostingClassifier\n",
        "\n",
        "gbr_classifier = GradientBoostingClassifier(max_depth=3, n_estimators=200)\n",
        "gbr_classifier.fit(X_train, y_train)\n",
        "gbr_predictions_train = gbr_classifier.predict(X_train)\n",
        "gbr_accuracy_train = accuracy_score(y_train, gbr_predictions_train)\n",
        "gbr_predictions_test = gbr_classifier.predict(X_test)\n",
        "gbr_accuracy_test = accuracy_score(y_test, gbr_predictions_test)\n",
        "print(\"== gbr Accuracy ==\")\n",
        "print(\"gbr Accuracy train:\", gbr_accuracy_train)\n",
        "print(\"gbr Accuracy test:\", gbr_accuracy_test)"
      ]
    },
    {
      "cell_type": "code",
      "execution_count": null,
      "metadata": {
        "colab": {
          "base_uri": "https://localhost:8080/"
        },
        "id": "Zrmb1FJJXvLi",
        "outputId": "cc31c626-19a9-40f0-c57c-df6415936bc5"
      },
      "outputs": [
        {
          "name": "stdout",
          "output_type": "stream",
          "text": [
            "== bc Accuracy ==\n",
            "bc Accuracy train: 1.0\n",
            "bc Accuracy test: 0.6774847870182555\n"
          ]
        }
      ],
      "source": [
        "from sklearn.ensemble import BaggingClassifier\n",
        "\n",
        "bc_classifier = BaggingClassifier(n_estimators=100)\n",
        "bc_classifier.fit(X_train, y_train)\n",
        "bc_predictions_train = bc_classifier.predict(X_train)\n",
        "bc_accuracy_train = accuracy_score(y_train, bc_predictions_train)\n",
        "bc_predictions_test = bc_classifier.predict(X_test)\n",
        "bc_accuracy_test = accuracy_score(y_test, bc_predictions_test)\n",
        "print(\"== bc Accuracy ==\")\n",
        "print(\"bc Accuracy train:\", bc_accuracy_train)\n",
        "print(\"bc Accuracy test:\", bc_accuracy_test)"
      ]
    },
    {
      "cell_type": "markdown",
      "metadata": {
        "id": "u6qFt0NgYvp9"
      },
      "source": [
        "# TF iDF"
      ]
    },
    {
      "cell_type": "code",
      "execution_count": null,
      "metadata": {
        "id": "PYlTJf5xYqf2"
      },
      "outputs": [],
      "source": [
        "from sklearn.feature_extraction.text import TfidfVectorizer\n",
        "\n",
        "vectorizer = TfidfVectorizer(min_df = 5,\n",
        "                             max_df = 0.8,\n",
        "                             sublinear_tf = True,\n",
        "                             use_idf = True)\n",
        "train_vectors = vectorizer.fit_transform(train_data['full_text'])\n",
        "test_vectors = vectorizer.transform(test_data['full_text'])"
      ]
    },
    {
      "cell_type": "code",
      "execution_count": null,
      "metadata": {
        "colab": {
          "base_uri": "https://localhost:8080/"
        },
        "id": "i1EGUXjXY0cJ",
        "outputId": "890de3e5-ca65-4f11-ccb8-b50422126481"
      },
      "outputs": [
        {
          "name": "stderr",
          "output_type": "stream",
          "text": [
            "/usr/local/lib/python3.10/dist-packages/sklearn/model_selection/_split.py:700: UserWarning: The least populated class in y has only 1 members, which is less than n_splits=5.\n",
            "  warnings.warn(\n"
          ]
        },
        {
          "name": "stdout",
          "output_type": "stream",
          "text": [
            "{'leaf_size': 60, 'n_neighbors': 3, 'p': 2, 'weights': 'distance'}\n",
            "== knn accuracy ==\n",
            "accuracy knn train:  0.9989837398373984\n",
            "accuracy knn test:  0.4847870182555781\n"
          ]
        }
      ],
      "source": [
        "from sklearn.metrics import classification_report\n",
        "\n",
        "param = {'weights':('uniform', 'distance'),\n",
        "         'leaf_size':[60, 90, 120],\n",
        "         'p':[1,2],\n",
        "         'n_neighbors':[3,5,7]}\n",
        "KNN = KNeighborsClassifier()\n",
        "knn_tfidf = GridSearchCV(KNN, param)\n",
        "knn_tfidf.fit(train_vectors, train_data['label'])\n",
        "print(knn_tfidf.best_params_)\n",
        "knn_tfidf_pred_train = knn_tfidf.predict(train_vectors)\n",
        "knn_tfidf_acc_train = accuracy_score(train_data['label'], knn_tfidf_pred_train)\n",
        "knn_tfidf_pred_test = knn_tfidf.predict(test_vectors)\n",
        "knn_tfidf_acc_test = accuracy_score(test_data['label'], knn_tfidf_pred_test)\n",
        "print(\"== knn accuracy ==\")\n",
        "print('accuracy knn train: ', knn_tfidf_acc_train)\n",
        "print('accuracy knn test: ', knn_tfidf_acc_test)\n"
      ]
    },
    {
      "cell_type": "code",
      "execution_count": null,
      "metadata": {
        "colab": {
          "base_uri": "https://localhost:8080/"
        },
        "id": "Nxo_b5MJsUmj",
        "outputId": "694fd01c-7372-4835-c066-388fdb5722fd"
      },
      "outputs": [
        {
          "name": "stderr",
          "output_type": "stream",
          "text": [
            "/usr/local/lib/python3.10/dist-packages/sklearn/model_selection/_split.py:700: UserWarning: The least populated class in y has only 1 members, which is less than n_splits=5.\n",
            "  warnings.warn(\n"
          ]
        },
        {
          "name": "stdout",
          "output_type": "stream",
          "text": [
            "{'degree': 1, 'gamma': 'scale', 'kernel': 'rbf'}\n",
            "== svm accuracy ==\n",
            "accuracy svm train:  0.9496951219512195\n",
            "accuracy svm test:  0.7099391480730223\n"
          ]
        }
      ],
      "source": [
        "param = {'kernel':('linear', 'poly', 'rbf', 'sigmoid'),\n",
        "         'degree':[1,2,3,4,5,6],\n",
        "         'gamma': ('scale', 'auto')}\n",
        "SVM = SVC()\n",
        "svm_tfidf = GridSearchCV(SVM, param)\n",
        "svm_tfidf.fit(train_vectors, train_data['label'])\n",
        "print(svm_tfidf.best_params_)\n",
        "svm_tfidf_pred_train = svm_tfidf.predict(train_vectors)\n",
        "svm_tfidf_acc_train = accuracy_score(train_data['label'], svm_tfidf_pred_train)\n",
        "svm_tfidf_pred_test = svm_tfidf.predict(test_vectors)\n",
        "svm_tfidf_acc_test = accuracy_score(test_data['label'], svm_tfidf_pred_test)\n",
        "print(\"== svm accuracy ==\")\n",
        "print('accuracy svm train: ', svm_tfidf_acc_train)\n",
        "print('accuracy svm test: ', svm_tfidf_acc_test)"
      ]
    },
    {
      "cell_type": "code",
      "execution_count": null,
      "metadata": {
        "colab": {
          "base_uri": "https://localhost:8080/"
        },
        "id": "Zux914GFsYx5",
        "outputId": "cb78f65a-e511-4452-c861-70c6a1a3215c"
      },
      "outputs": [
        {
          "name": "stdout",
          "output_type": "stream",
          "text": [
            "== rfc accuracy ==\n",
            "accuracy rfc train:  0.9989837398373984\n",
            "accuracy rfc test:  0.6997971602434077\n"
          ]
        }
      ],
      "source": [
        "rfc_tfidf = RandomForestClassifier(n_estimators=200, criterion='entropy')\n",
        "rfc_tfidf.fit(train_vectors, train_data['label'])\n",
        "rfc_tfidf_pred_train = rfc_tfidf.predict(train_vectors)\n",
        "rfc_tfidf_acc_train = accuracy_score(train_data['label'], rfc_tfidf_pred_train)\n",
        "rfc_tfidf_pred_test = rfc_tfidf.predict(test_vectors)\n",
        "rfc_tfidf_acc_test = accuracy_score(test_data['label'], rfc_tfidf_pred_test)\n",
        "print(\"== rfc accuracy ==\")\n",
        "print('accuracy rfc train: ', rfc_tfidf_acc_train)\n",
        "print('accuracy rfc test: ', rfc_tfidf_acc_test)"
      ]
    },
    {
      "cell_type": "markdown",
      "metadata": {
        "id": "LwYCO7Suak__"
      },
      "source": [
        "# Count Vectorizer"
      ]
    },
    {
      "cell_type": "code",
      "execution_count": null,
      "metadata": {
        "id": "NNXo7P9waoTk"
      },
      "outputs": [],
      "source": [
        "from sklearn.feature_extraction.text import CountVectorizer\n",
        "\n",
        "X_train, X_test, y_train, y_test = train_test_split(data['full_text'], data['label'], random_state=42, test_size=0.2)\n",
        "\n",
        "vectorizer = CountVectorizer()\n",
        "X_train_vectorized = vectorizer.fit_transform(X_train)\n",
        "X_test_vectorized = vectorizer.transform(X_test)\n"
      ]
    },
    {
      "cell_type": "code",
      "execution_count": null,
      "metadata": {
        "colab": {
          "base_uri": "https://localhost:8080/"
        },
        "id": "pAVNK4DCuzqp",
        "outputId": "34b08511-63f0-4ceb-e5cd-ed1468c1a7ff"
      },
      "outputs": [
        {
          "name": "stderr",
          "output_type": "stream",
          "text": [
            "/usr/local/lib/python3.10/dist-packages/sklearn/model_selection/_split.py:700: UserWarning: The least populated class in y has only 1 members, which is less than n_splits=5.\n",
            "  warnings.warn(\n"
          ]
        },
        {
          "name": "stdout",
          "output_type": "stream",
          "text": [
            "{'leaf_size': 60, 'n_neighbors': 3, 'p': 2, 'weights': 'distance'}\n",
            "== knn accuracy ==\n",
            "accuracy knn train:  1.0\n",
            "accuracy knn test:  0.6612576064908722\n"
          ]
        }
      ],
      "source": [
        "param = {'weights':('uniform', 'distance'),\n",
        "         'leaf_size':[60, 90, 120],\n",
        "         'p':[1,2],\n",
        "         'n_neighbors':[3,5,7]}\n",
        "KNN = KNeighborsClassifier()\n",
        "knn_cv = GridSearchCV(KNN, param)\n",
        "knn_cv.fit(X_train_vectorized, y_train)\n",
        "print(knn_cv.best_params_)\n",
        "knn_cv_pred_train = knn_cv.predict(X_train_vectorized)\n",
        "knn_cv_train_acc = accuracy_score(y_train, knn_cv_pred_train)\n",
        "knn_cv_pred_test = knn_cv.predict(X_test_vectorized)\n",
        "knn_cv_test_acc = accuracy_score(y_test, knn_cv_pred_test)\n",
        "print('== knn accuracy ==')\n",
        "print('accuracy knn train: ', knn_cv_train_acc)\n",
        "print('accuracy knn test: ', knn_cv_test_acc)"
      ]
    },
    {
      "cell_type": "code",
      "execution_count": null,
      "metadata": {
        "colab": {
          "base_uri": "https://localhost:8080/"
        },
        "id": "VPW7sLFjuvf7",
        "outputId": "25b012fa-e3fc-473b-96c7-12678cd9fae2"
      },
      "outputs": [
        {
          "name": "stderr",
          "output_type": "stream",
          "text": [
            "/usr/local/lib/python3.10/dist-packages/sklearn/model_selection/_split.py:700: UserWarning: The least populated class in y has only 1 members, which is less than n_splits=5.\n",
            "  warnings.warn(\n"
          ]
        },
        {
          "name": "stdout",
          "output_type": "stream",
          "text": [
            "{'degree': 1, 'gamma': 'scale', 'kernel': 'rbf'}\n",
            "== svm accuracy ==\n",
            "accuracy svm train:  0.926829268292683\n",
            "accuracy svm test:  0.718052738336714\n"
          ]
        }
      ],
      "source": [
        "param = {'kernel':('linear', 'poly', 'rbf', 'sigmoid'),\n",
        "         'degree':[1,2,3,4,5,6],\n",
        "         'gamma': ('scale', 'auto')}\n",
        "SVM = SVC()\n",
        "svm_cv = GridSearchCV(SVM, param)\n",
        "svm_cv.fit(X_train_vectorized, y_train)\n",
        "print(svm_cv.best_params_)\n",
        "svm_cv_pred_train = svm_cv.predict(X_train_vectorized)\n",
        "svm_cv_train_acc = accuracy_score(y_train, svm_cv_pred_train)\n",
        "svm_cv_pred_test = svm_cv.predict(X_test_vectorized)\n",
        "svm_cv_test_acc = accuracy_score(y_test, svm_cv_pred_test)\n",
        "print('== svm accuracy ==')\n",
        "print('accuracy svm train: ', svm_cv_train_acc)\n",
        "print('accuracy svm test: ', svm_cv_test_acc)"
      ]
    },
    {
      "cell_type": "code",
      "execution_count": null,
      "metadata": {
        "colab": {
          "base_uri": "https://localhost:8080/"
        },
        "id": "xyPbMS_Q9nwt",
        "outputId": "c09de072-0af8-4379-c6b0-7b4a89fd066c"
      },
      "outputs": [
        {
          "name": "stdout",
          "output_type": "stream",
          "text": [
            "Fitting 5 folds for each of 9 candidates, totalling 45 fits\n",
            "Best parameters: {'C': 0.1, 'epsilon': 0.01}\n",
            "Best accuracy: nan\n"
          ]
        },
        {
          "name": "stderr",
          "output_type": "stream",
          "text": [
            "/usr/local/lib/python3.10/dist-packages/sklearn/model_selection/_search.py:952: UserWarning: One or more of the test scores are non-finite: [nan nan nan nan nan nan nan nan nan]\n",
            "  warnings.warn(\n"
          ]
        }
      ],
      "source": [
        "from sklearn import svm\n",
        "from sklearn.svm import SVR\n",
        "from sklearn.datasets import make_classification\n",
        "from sklearn.model_selection import GridSearchCV\n",
        "\n",
        "# Create a synthetic dataset for demonstration purposes\n",
        "X, y = make_classification(n_samples=100, n_features=20, n_informative=2, n_redundant=10, random_state=42)\n",
        "\n",
        "# Define the parameter grid for GridSearchCV\n",
        "param_grid = {'C': [0.1, 1, 10], 'epsilon': [0.01, 0.1, 1]}\n",
        "\n",
        "# Instantiate the SVR model with L1 regularization\n",
        "svr_model = SVR(kernel='linear', C=1, epsilon=0.1, tol=1e-3)\n",
        "\n",
        "# Perform GridSearchCV\n",
        "svr_cv = GridSearchCV(svr_model, param_grid, cv=5, scoring='accuracy', verbose=2, n_jobs=-1)\n",
        "svr_cv.fit(X, y)\n",
        "\n",
        "# Print the best parameters and accuracy\n",
        "print('Best parameters:', svr_cv.best_params_)\n",
        "print('Best accuracy:', svr_cv.best_score_)"
      ]
    },
    {
      "cell_type": "code",
      "execution_count": null,
      "metadata": {
        "colab": {
          "base_uri": "https://localhost:8080/"
        },
        "id": "Vm83tGyGuxRP",
        "outputId": "976d18ca-5522-4a29-fb05-c356f874d16d"
      },
      "outputs": [
        {
          "name": "stdout",
          "output_type": "stream",
          "text": [
            "== rfc accuracy ==\n",
            "accuracy rfc train:  0.6473577235772358\n",
            "accuracy rfc test:  0.6206896551724138\n"
          ]
        }
      ],
      "source": [
        "rfc_cv = RandomForestClassifier(n_estimators=200, criterion='gini', max_depth=12)\n",
        "rfc_cv.fit(X_train_vectorized, y_train)\n",
        "rfc_cv_pred_train = rfc_cv.predict(X_train_vectorized)\n",
        "rfc_cv_train_acc = accuracy_score(y_train, rfc_cv_pred_train)\n",
        "rfc_cv_pred_test = rfc_cv.predict(X_test_vectorized)\n",
        "rfc_cv_test_acc = accuracy_score(y_test, rfc_cv_pred_test)\n",
        "print('== rfc accuracy ==')\n",
        "print('accuracy rfc train: ', rfc_cv_train_acc)\n",
        "print('accuracy rfc test: ', rfc_cv_test_acc)"
      ]
    },
    {
      "cell_type": "markdown",
      "metadata": {
        "id": "BO2dwVvEgW02"
      },
      "source": [
        "# gloVe"
      ]
    },
    {
      "cell_type": "code",
      "execution_count": null,
      "metadata": {
        "colab": {
          "base_uri": "https://localhost:8080/"
        },
        "id": "tek5H4dJhIZJ",
        "outputId": "6a5c95c9-0211-4e94-b3cd-613c446aaf02"
      },
      "outputs": [
        {
          "name": "stdout",
          "output_type": "stream",
          "text": [
            "Requirement already satisfied: gensim in /usr/local/lib/python3.10/dist-packages (4.3.2)\n",
            "Requirement already satisfied: numpy>=1.18.5 in /usr/local/lib/python3.10/dist-packages (from gensim) (1.25.2)\n",
            "Requirement already satisfied: scipy>=1.7.0 in /usr/local/lib/python3.10/dist-packages (from gensim) (1.11.4)\n",
            "Requirement already satisfied: smart-open>=1.8.1 in /usr/local/lib/python3.10/dist-packages (from gensim) (6.4.0)\n"
          ]
        }
      ],
      "source": [
        "!pip install gensim"
      ]
    },
    {
      "cell_type": "code",
      "execution_count": null,
      "metadata": {
        "colab": {
          "base_uri": "https://localhost:8080/"
        },
        "id": "fDwq1HvMhMv3",
        "outputId": "39994ead-7d58-4b1f-fadd-9428aa344b3f"
      },
      "outputs": [
        {
          "name": "stdout",
          "output_type": "stream",
          "text": [
            "[==================================================] 100.0% 128.1/128.1MB downloaded\n"
          ]
        }
      ],
      "source": [
        "\n"
      ]
    },
    {
      "cell_type": "code",
      "execution_count": null,
      "metadata": {
        "id": "_IQ2tBoec3Wq"
      },
      "outputs": [],
      "source": [
        "import gensim.downloader as api\n",
        "\n",
        "glove_model = api.load(\"glove-wiki-gigaword-100\")\n",
        "\n",
        "glove_vectors = {}\n",
        "for word in glove_model.key_to_index.keys():\n",
        "    glove_vectors[word] = glove_model[word]\n",
        "\n",
        "\n",
        "def sentence_to_vec(sentence):\n",
        "    words = sentence.split()\n",
        "    vectors = [glove_vectors[word] for word in words if word in glove_vectors]\n",
        "    return np.mean(vectors, axis=0) if vectors else np.zeros_like(glove_vectors[next(iter(glove_vectors))])\n",
        "\n",
        "\n",
        "X = np.array([sentence_to_vec(sentence) for sentence in data['full_text']])\n",
        "y = data['label']\n",
        "\n",
        "# Pisahkan data\n",
        "X_train, X_test, y_train, y_test = train_test_split(X, y, test_size=0.2, random_state=42)"
      ]
    },
    {
      "cell_type": "code",
      "execution_count": null,
      "metadata": {
        "colab": {
          "base_uri": "https://localhost:8080/"
        },
        "id": "qBnr85k6hq6c",
        "outputId": "7839a350-fe95-40ac-86ce-c10f3f1545a2"
      },
      "outputs": [
        {
          "name": "stderr",
          "output_type": "stream",
          "text": [
            "/usr/local/lib/python3.10/dist-packages/sklearn/model_selection/_split.py:700: UserWarning: The least populated class in y has only 1 members, which is less than n_splits=5.\n",
            "  warnings.warn(\n"
          ]
        },
        {
          "name": "stdout",
          "output_type": "stream",
          "text": [
            "{'leaf_size': 60, 'n_neighbors': 7, 'p': 2, 'weights': 'distance'}\n",
            "== knn accuracy ==\n",
            "accuracy knn train:  0.9994918699186992\n",
            "accuracy knn test:  0.6612576064908722\n"
          ]
        }
      ],
      "source": [
        "param = {'weights':('uniform', 'distance'),\n",
        "         'leaf_size':[60, 90, 120],\n",
        "         'p':[1,2],\n",
        "         'n_neighbors':[3,5,7]}\n",
        "KNN = KNeighborsClassifier()\n",
        "knn_gv = GridSearchCV(KNN, param)\n",
        "knn_gv.fit(X_train, y_train)\n",
        "print(knn_gv.best_params_)\n",
        "knn_gv_pred_train = knn_gv.predict(X_train)\n",
        "knn_gv_train_acc = accuracy_score(y_train, knn_gv_pred_train)\n",
        "knn_gv_pred_test = knn_gv.predict(X_test)\n",
        "knn_gv_test_acc = accuracy_score(y_test, knn_gv_pred_test)\n",
        "print('== knn accuracy ==')\n",
        "print('accuracy knn train: ', knn_gv_train_acc)\n",
        "print('accuracy knn test: ', knn_gv_test_acc)"
      ]
    },
    {
      "cell_type": "code",
      "execution_count": null,
      "metadata": {
        "colab": {
          "base_uri": "https://localhost:8080/"
        },
        "id": "42l-wmZmwmEH",
        "outputId": "626ad0f7-3fb2-44c2-d4d5-c581a4c6c851"
      },
      "outputs": [
        {
          "name": "stderr",
          "output_type": "stream",
          "text": [
            "/usr/local/lib/python3.10/dist-packages/sklearn/model_selection/_split.py:700: UserWarning: The least populated class in y has only 1 members, which is less than n_splits=5.\n",
            "  warnings.warn(\n"
          ]
        },
        {
          "name": "stdout",
          "output_type": "stream",
          "text": [
            "{'degree': 1, 'gamma': 'scale', 'kernel': 'rbf'}\n",
            "== svm accuracy ==\n",
            "accuracy svm train:  0.771849593495935\n",
            "accuracy svm test:  0.6592292089249493\n"
          ]
        }
      ],
      "source": [
        "param = {'kernel':('linear', 'poly', 'rbf', 'sigmoid'),\n",
        "         'degree':[1,2,3,4,5,6],\n",
        "         'gamma': ('scale', 'auto')}\n",
        "SVM = SVC()\n",
        "svm_gv = GridSearchCV(SVM, param)\n",
        "svm_gv.fit(X_train, y_train)\n",
        "print(svm_gv.best_params_)\n",
        "svm_gv_pred_train = svm_gv.predict(X_train)\n",
        "svm_gv_train_acc = accuracy_score(y_train, svm_gv_pred_train)\n",
        "svm_gv_pred_test = svm_gv.predict(X_test)\n",
        "svm_gv_test_acc = accuracy_score(y_test, svm_gv_pred_test)\n",
        "print('== svm accuracy ==')\n",
        "print('accuracy svm train: ', svm_gv_train_acc)\n",
        "print('accuracy svm test: ', svm_gv_test_acc)"
      ]
    },
    {
      "cell_type": "code",
      "execution_count": null,
      "metadata": {
        "colab": {
          "base_uri": "https://localhost:8080/"
        },
        "id": "1M6zH0yCwndY",
        "outputId": "97e44cd3-1efc-4b95-b6c5-49e9d465f3cd"
      },
      "outputs": [
        {
          "name": "stdout",
          "output_type": "stream",
          "text": [
            "== rfc accuracy ==\n",
            "accuracy rfc train:  0.6483739837398373\n",
            "accuracy rfc test:  0.6247464503042597\n"
          ]
        }
      ],
      "source": [
        "rfc_gv = RandomForestClassifier(n_estimators=200, criterion='entropy', max_depth=3)\n",
        "rfc_gv.fit(X_train, y_train)\n",
        "rfc_gv_pred_train = rfc_gv.predict(X_train)\n",
        "rfc_gv_train_acc = accuracy_score(y_train, rfc_gv_pred_train)\n",
        "rfc_gv_pred_test = rfc_gv.predict(X_test)\n",
        "rfc_gv_test_acc = accuracy_score(y_test, rfc_gv_pred_test)\n",
        "print('== rfc accuracy ==')\n",
        "print('accuracy rfc train: ', rfc_gv_train_acc)\n",
        "print('accuracy rfc test: ', rfc_gv_test_acc)"
      ]
    },
    {
      "cell_type": "markdown",
      "metadata": {
        "id": "NUV_rj5wm9GG"
      },
      "source": [
        "# Anies"
      ]
    },
    {
      "cell_type": "code",
      "execution_count": null,
      "metadata": {
        "colab": {
          "base_uri": "https://localhost:8080/",
          "height": 423
        },
        "id": "nEfMdATgm_lW",
        "outputId": "59f28982-6052-45b4-d27c-f44358d8e120"
      },
      "outputs": [
        {
          "data": {
            "application/vnd.google.colaboratory.intrinsic+json": {
              "summary": "{\n  \"name\": \"anies\",\n  \"rows\": 488,\n  \"fields\": [\n    {\n      \"column\": \"full_text\",\n      \"properties\": {\n        \"dtype\": \"string\",\n        \"num_unique_values\": 488,\n        \"samples\": [\n          \"anies adalah contoh nyata orang pimpin yang milik semangat yang tak goyah\",\n          \"w45it jangan ikut main\",\n          \"saya tidak paham dengan jawab anies tidak to de point tanya mau lanjut ikn tinggal jawab iya atau tidak muter mulu biar liat intelek akhir tidak jawab\"\n        ],\n        \"semantic_type\": \"\",\n        \"description\": \"\"\n      }\n    },\n    {\n      \"column\": \"label\",\n      \"properties\": {\n        \"dtype\": \"category\",\n        \"num_unique_values\": 4,\n        \"samples\": [\n          \"netral\",\n          \"pneg\",\n          \"negatif\"\n        ],\n        \"semantic_type\": \"\",\n        \"description\": \"\"\n      }\n    }\n  ]\n}",
              "type": "dataframe",
              "variable_name": "anies"
            },
            "text/html": [
              "\n",
              "  <div id=\"df-4557795e-dd80-42a6-9257-52566bc0fa98\" class=\"colab-df-container\">\n",
              "    <div>\n",
              "<style scoped>\n",
              "    .dataframe tbody tr th:only-of-type {\n",
              "        vertical-align: middle;\n",
              "    }\n",
              "\n",
              "    .dataframe tbody tr th {\n",
              "        vertical-align: top;\n",
              "    }\n",
              "\n",
              "    .dataframe thead th {\n",
              "        text-align: right;\n",
              "    }\n",
              "</style>\n",
              "<table border=\"1\" class=\"dataframe\">\n",
              "  <thead>\n",
              "    <tr style=\"text-align: right;\">\n",
              "      <th></th>\n",
              "      <th>full_text</th>\n",
              "      <th>label</th>\n",
              "    </tr>\n",
              "  </thead>\n",
              "  <tbody>\n",
              "    <tr>\n",
              "      <th>0</th>\n",
              "      <td>pasti anies tidak punya prestasi</td>\n",
              "      <td>negatif</td>\n",
              "    </tr>\n",
              "    <tr>\n",
              "      <th>1</th>\n",
              "      <td>suasana desa memang selalu senang udara segar ...</td>\n",
              "      <td>netral</td>\n",
              "    </tr>\n",
              "    <tr>\n",
              "      <th>2</th>\n",
              "      <td>program anies hanya ubah nama rumah sakit se i...</td>\n",
              "      <td>negatif</td>\n",
              "    </tr>\n",
              "    <tr>\n",
              "      <th>3</th>\n",
              "      <td>anies bohong dan bohong tanpa rasa salah</td>\n",
              "      <td>negatif</td>\n",
              "    </tr>\n",
              "    <tr>\n",
              "      <th>4</th>\n",
              "      <td>tidak bicara sesuai fakta anies dengan lantang...</td>\n",
              "      <td>negatif</td>\n",
              "    </tr>\n",
              "    <tr>\n",
              "      <th>...</th>\n",
              "      <td>...</td>\n",
              "      <td>...</td>\n",
              "    </tr>\n",
              "    <tr>\n",
              "      <th>483</th>\n",
              "      <td>tiga untuk indonesia lebih baik tag batter up ...</td>\n",
              "      <td>netral</td>\n",
              "    </tr>\n",
              "    <tr>\n",
              "      <th>484</th>\n",
              "      <td>makanya susah paham apa yang disampaikam anies...</td>\n",
              "      <td>negatif</td>\n",
              "    </tr>\n",
              "    <tr>\n",
              "      <th>485</th>\n",
              "      <td>buat pak anies bukankah anda saat itu yang kd ...</td>\n",
              "      <td>negatif</td>\n",
              "    </tr>\n",
              "    <tr>\n",
              "      <th>486</th>\n",
              "      <td>anies baswedan sosok pimpin yang paham bahwa p...</td>\n",
              "      <td>positif</td>\n",
              "    </tr>\n",
              "    <tr>\n",
              "      <th>487</th>\n",
              "      <td>anies baswedan harap dapat bawa ubah positif d...</td>\n",
              "      <td>positif</td>\n",
              "    </tr>\n",
              "  </tbody>\n",
              "</table>\n",
              "<p>488 rows × 2 columns</p>\n",
              "</div>\n",
              "    <div class=\"colab-df-buttons\">\n",
              "\n",
              "  <div class=\"colab-df-container\">\n",
              "    <button class=\"colab-df-convert\" onclick=\"convertToInteractive('df-4557795e-dd80-42a6-9257-52566bc0fa98')\"\n",
              "            title=\"Convert this dataframe to an interactive table.\"\n",
              "            style=\"display:none;\">\n",
              "\n",
              "  <svg xmlns=\"http://www.w3.org/2000/svg\" height=\"24px\" viewBox=\"0 -960 960 960\">\n",
              "    <path d=\"M120-120v-720h720v720H120Zm60-500h600v-160H180v160Zm220 220h160v-160H400v160Zm0 220h160v-160H400v160ZM180-400h160v-160H180v160Zm440 0h160v-160H620v160ZM180-180h160v-160H180v160Zm440 0h160v-160H620v160Z\"/>\n",
              "  </svg>\n",
              "    </button>\n",
              "\n",
              "  <style>\n",
              "    .colab-df-container {\n",
              "      display:flex;\n",
              "      gap: 12px;\n",
              "    }\n",
              "\n",
              "    .colab-df-convert {\n",
              "      background-color: #E8F0FE;\n",
              "      border: none;\n",
              "      border-radius: 50%;\n",
              "      cursor: pointer;\n",
              "      display: none;\n",
              "      fill: #1967D2;\n",
              "      height: 32px;\n",
              "      padding: 0 0 0 0;\n",
              "      width: 32px;\n",
              "    }\n",
              "\n",
              "    .colab-df-convert:hover {\n",
              "      background-color: #E2EBFA;\n",
              "      box-shadow: 0px 1px 2px rgba(60, 64, 67, 0.3), 0px 1px 3px 1px rgba(60, 64, 67, 0.15);\n",
              "      fill: #174EA6;\n",
              "    }\n",
              "\n",
              "    .colab-df-buttons div {\n",
              "      margin-bottom: 4px;\n",
              "    }\n",
              "\n",
              "    [theme=dark] .colab-df-convert {\n",
              "      background-color: #3B4455;\n",
              "      fill: #D2E3FC;\n",
              "    }\n",
              "\n",
              "    [theme=dark] .colab-df-convert:hover {\n",
              "      background-color: #434B5C;\n",
              "      box-shadow: 0px 1px 3px 1px rgba(0, 0, 0, 0.15);\n",
              "      filter: drop-shadow(0px 1px 2px rgba(0, 0, 0, 0.3));\n",
              "      fill: #FFFFFF;\n",
              "    }\n",
              "  </style>\n",
              "\n",
              "    <script>\n",
              "      const buttonEl =\n",
              "        document.querySelector('#df-4557795e-dd80-42a6-9257-52566bc0fa98 button.colab-df-convert');\n",
              "      buttonEl.style.display =\n",
              "        google.colab.kernel.accessAllowed ? 'block' : 'none';\n",
              "\n",
              "      async function convertToInteractive(key) {\n",
              "        const element = document.querySelector('#df-4557795e-dd80-42a6-9257-52566bc0fa98');\n",
              "        const dataTable =\n",
              "          await google.colab.kernel.invokeFunction('convertToInteractive',\n",
              "                                                    [key], {});\n",
              "        if (!dataTable) return;\n",
              "\n",
              "        const docLinkHtml = 'Like what you see? Visit the ' +\n",
              "          '<a target=\"_blank\" href=https://colab.research.google.com/notebooks/data_table.ipynb>data table notebook</a>'\n",
              "          + ' to learn more about interactive tables.';\n",
              "        element.innerHTML = '';\n",
              "        dataTable['output_type'] = 'display_data';\n",
              "        await google.colab.output.renderOutput(dataTable, element);\n",
              "        const docLink = document.createElement('div');\n",
              "        docLink.innerHTML = docLinkHtml;\n",
              "        element.appendChild(docLink);\n",
              "      }\n",
              "    </script>\n",
              "  </div>\n",
              "\n",
              "\n",
              "<div id=\"df-5d008ae1-2189-4945-952d-5bf74abfe514\">\n",
              "  <button class=\"colab-df-quickchart\" onclick=\"quickchart('df-5d008ae1-2189-4945-952d-5bf74abfe514')\"\n",
              "            title=\"Suggest charts\"\n",
              "            style=\"display:none;\">\n",
              "\n",
              "<svg xmlns=\"http://www.w3.org/2000/svg\" height=\"24px\"viewBox=\"0 0 24 24\"\n",
              "     width=\"24px\">\n",
              "    <g>\n",
              "        <path d=\"M19 3H5c-1.1 0-2 .9-2 2v14c0 1.1.9 2 2 2h14c1.1 0 2-.9 2-2V5c0-1.1-.9-2-2-2zM9 17H7v-7h2v7zm4 0h-2V7h2v10zm4 0h-2v-4h2v4z\"/>\n",
              "    </g>\n",
              "</svg>\n",
              "  </button>\n",
              "\n",
              "<style>\n",
              "  .colab-df-quickchart {\n",
              "      --bg-color: #E8F0FE;\n",
              "      --fill-color: #1967D2;\n",
              "      --hover-bg-color: #E2EBFA;\n",
              "      --hover-fill-color: #174EA6;\n",
              "      --disabled-fill-color: #AAA;\n",
              "      --disabled-bg-color: #DDD;\n",
              "  }\n",
              "\n",
              "  [theme=dark] .colab-df-quickchart {\n",
              "      --bg-color: #3B4455;\n",
              "      --fill-color: #D2E3FC;\n",
              "      --hover-bg-color: #434B5C;\n",
              "      --hover-fill-color: #FFFFFF;\n",
              "      --disabled-bg-color: #3B4455;\n",
              "      --disabled-fill-color: #666;\n",
              "  }\n",
              "\n",
              "  .colab-df-quickchart {\n",
              "    background-color: var(--bg-color);\n",
              "    border: none;\n",
              "    border-radius: 50%;\n",
              "    cursor: pointer;\n",
              "    display: none;\n",
              "    fill: var(--fill-color);\n",
              "    height: 32px;\n",
              "    padding: 0;\n",
              "    width: 32px;\n",
              "  }\n",
              "\n",
              "  .colab-df-quickchart:hover {\n",
              "    background-color: var(--hover-bg-color);\n",
              "    box-shadow: 0 1px 2px rgba(60, 64, 67, 0.3), 0 1px 3px 1px rgba(60, 64, 67, 0.15);\n",
              "    fill: var(--button-hover-fill-color);\n",
              "  }\n",
              "\n",
              "  .colab-df-quickchart-complete:disabled,\n",
              "  .colab-df-quickchart-complete:disabled:hover {\n",
              "    background-color: var(--disabled-bg-color);\n",
              "    fill: var(--disabled-fill-color);\n",
              "    box-shadow: none;\n",
              "  }\n",
              "\n",
              "  .colab-df-spinner {\n",
              "    border: 2px solid var(--fill-color);\n",
              "    border-color: transparent;\n",
              "    border-bottom-color: var(--fill-color);\n",
              "    animation:\n",
              "      spin 1s steps(1) infinite;\n",
              "  }\n",
              "\n",
              "  @keyframes spin {\n",
              "    0% {\n",
              "      border-color: transparent;\n",
              "      border-bottom-color: var(--fill-color);\n",
              "      border-left-color: var(--fill-color);\n",
              "    }\n",
              "    20% {\n",
              "      border-color: transparent;\n",
              "      border-left-color: var(--fill-color);\n",
              "      border-top-color: var(--fill-color);\n",
              "    }\n",
              "    30% {\n",
              "      border-color: transparent;\n",
              "      border-left-color: var(--fill-color);\n",
              "      border-top-color: var(--fill-color);\n",
              "      border-right-color: var(--fill-color);\n",
              "    }\n",
              "    40% {\n",
              "      border-color: transparent;\n",
              "      border-right-color: var(--fill-color);\n",
              "      border-top-color: var(--fill-color);\n",
              "    }\n",
              "    60% {\n",
              "      border-color: transparent;\n",
              "      border-right-color: var(--fill-color);\n",
              "    }\n",
              "    80% {\n",
              "      border-color: transparent;\n",
              "      border-right-color: var(--fill-color);\n",
              "      border-bottom-color: var(--fill-color);\n",
              "    }\n",
              "    90% {\n",
              "      border-color: transparent;\n",
              "      border-bottom-color: var(--fill-color);\n",
              "    }\n",
              "  }\n",
              "</style>\n",
              "\n",
              "  <script>\n",
              "    async function quickchart(key) {\n",
              "      const quickchartButtonEl =\n",
              "        document.querySelector('#' + key + ' button');\n",
              "      quickchartButtonEl.disabled = true;  // To prevent multiple clicks.\n",
              "      quickchartButtonEl.classList.add('colab-df-spinner');\n",
              "      try {\n",
              "        const charts = await google.colab.kernel.invokeFunction(\n",
              "            'suggestCharts', [key], {});\n",
              "      } catch (error) {\n",
              "        console.error('Error during call to suggestCharts:', error);\n",
              "      }\n",
              "      quickchartButtonEl.classList.remove('colab-df-spinner');\n",
              "      quickchartButtonEl.classList.add('colab-df-quickchart-complete');\n",
              "    }\n",
              "    (() => {\n",
              "      let quickchartButtonEl =\n",
              "        document.querySelector('#df-5d008ae1-2189-4945-952d-5bf74abfe514 button');\n",
              "      quickchartButtonEl.style.display =\n",
              "        google.colab.kernel.accessAllowed ? 'block' : 'none';\n",
              "    })();\n",
              "  </script>\n",
              "</div>\n",
              "    </div>\n",
              "  </div>\n"
            ],
            "text/plain": [
              "                                             full_text    label\n",
              "0                     pasti anies tidak punya prestasi  negatif\n",
              "1    suasana desa memang selalu senang udara segar ...   netral\n",
              "2    program anies hanya ubah nama rumah sakit se i...  negatif\n",
              "3             anies bohong dan bohong tanpa rasa salah  negatif\n",
              "4    tidak bicara sesuai fakta anies dengan lantang...  negatif\n",
              "..                                                 ...      ...\n",
              "483  tiga untuk indonesia lebih baik tag batter up ...   netral\n",
              "484  makanya susah paham apa yang disampaikam anies...  negatif\n",
              "485  buat pak anies bukankah anda saat itu yang kd ...  negatif\n",
              "486  anies baswedan sosok pimpin yang paham bahwa p...  positif\n",
              "487  anies baswedan harap dapat bawa ubah positif d...  positif\n",
              "\n",
              "[488 rows x 2 columns]"
            ]
          },
          "execution_count": 229,
          "metadata": {},
          "output_type": "execute_result"
        }
      ],
      "source": [
        "anies = pd.read_csv('preProcessingAnies.csv')\n",
        "anies"
      ]
    },
    {
      "cell_type": "code",
      "execution_count": null,
      "metadata": {
        "id": "nVgCuJl3psuJ"
      },
      "outputs": [],
      "source": [
        "from gensim.models import Word2Vec\n",
        "from sklearn.model_selection import train_test_split\n",
        "from sklearn.metrics import accuracy_score\n",
        "\n",
        "sentences = anies['full_text'] # List teks\n",
        "tokenized_sentences = [sentence.split() for sentence in sentences]\n",
        "\n",
        "model = Word2Vec(tokenized_sentences, vector_size=100, window=5, min_count=1, workers=5)\n",
        "X = np.array([np.mean([model.wv[word] for word in sentence if word in model.wv.key_to_index], axis=0) for sentence in tokenized_sentences])\n",
        "labels = anies['label']\n",
        "\n",
        "X_train_anies, X_test_anies, y_train_anies, y_test_anies = train_test_split(X, labels, test_size=0.6, random_state=42)"
      ]
    },
    {
      "cell_type": "code",
      "execution_count": null,
      "metadata": {
        "colab": {
          "base_uri": "https://localhost:8080/"
        },
        "id": "LTYG3Ninp6Qm",
        "outputId": "2cc809ab-8f4c-4eb2-c5cd-087f280c2b50"
      },
      "outputs": [
        {
          "name": "stdout",
          "output_type": "stream",
          "text": [
            "== knn Accuracy ==\n",
            "knn Accuracy test: 0.39590443686006827\n",
            "== svm Accuracy ==\n",
            "svm Accuracy test: 0.39590443686006827\n",
            "== rfc Accuracy ==\n",
            "rfc Accuracy test: 0.39590443686006827\n"
          ]
        }
      ],
      "source": [
        "knn_predictions_test = knn_classifier.predict(X_test_anies)\n",
        "knn_accuracy_test = accuracy_score(y_test_anies, knn_predictions_test)\n",
        "print(\"== knn Accuracy ==\")\n",
        "print(\"knn Accuracy test:\", knn_accuracy_test)\n",
        "\n",
        "svm_predictions_test = svm_classifier.predict(X_test_anies)\n",
        "svm_accuracy_test = accuracy_score(y_test_anies, svm_predictions_test)\n",
        "print(\"== svm Accuracy ==\")\n",
        "print(\"svm Accuracy test:\", svm_accuracy_test)\n",
        "\n",
        "rfc_predictions_test = rfc_classifier.predict(X_test_anies)\n",
        "rfc_accuracy_test = accuracy_score(y_test_anies, rfc_predictions_test)\n",
        "print(\"== rfc Accuracy ==\")\n",
        "print(\"rfc Accuracy test:\", rfc_accuracy_test)"
      ]
    },
    {
      "cell_type": "code",
      "execution_count": null,
      "metadata": {
        "id": "lGjfCfa1rtBv"
      },
      "outputs": [],
      "source": [
        "from sklearn.feature_extraction.text import TfidfVectorizer\n",
        "# Create feature vectors\n",
        "vectorizer = TfidfVectorizer(min_df = 5,\n",
        "                             max_df = 0.8,\n",
        "                             sublinear_tf = True,\n",
        "                             use_idf = True)\n",
        "train_vectors_anies = vectorizer.fit_transform(anies['full_text'])\n",
        "test_vectors_anies = vectorizer.transform(anies['full_text'])"
      ]
    },
    {
      "cell_type": "code",
      "execution_count": null,
      "metadata": {
        "colab": {
          "base_uri": "https://localhost:8080/",
          "height": 339
        },
        "id": "T0LjVQb8sFWu",
        "outputId": "40273be6-f933-44da-b029-7f20af353203"
      },
      "outputs": [
        {
          "ename": "ValueError",
          "evalue": "X has 413 features, but KNeighborsClassifier is expecting 964 features as input.",
          "output_type": "error",
          "traceback": [
            "\u001b[0;31m---------------------------------------------------------------------------\u001b[0m",
            "\u001b[0;31mValueError\u001b[0m                                Traceback (most recent call last)",
            "\u001b[0;32m<ipython-input-235-93ed7e2f952c>\u001b[0m in \u001b[0;36m<cell line: 1>\u001b[0;34m()\u001b[0m\n\u001b[0;32m----> 1\u001b[0;31m \u001b[0mknn_tfidf_pred_test\u001b[0m \u001b[0;34m=\u001b[0m \u001b[0mknn_tfidf\u001b[0m\u001b[0;34m.\u001b[0m\u001b[0mpredict\u001b[0m\u001b[0;34m(\u001b[0m\u001b[0mtest_vectors_anies\u001b[0m\u001b[0;34m)\u001b[0m\u001b[0;34m\u001b[0m\u001b[0;34m\u001b[0m\u001b[0m\n\u001b[0m\u001b[1;32m      2\u001b[0m \u001b[0mknn_tfidf_acc_test\u001b[0m \u001b[0;34m=\u001b[0m \u001b[0maccuracy_score\u001b[0m\u001b[0;34m(\u001b[0m\u001b[0manies\u001b[0m\u001b[0;34m[\u001b[0m\u001b[0;34m'label'\u001b[0m\u001b[0;34m]\u001b[0m\u001b[0;34m,\u001b[0m \u001b[0mknn_tfidf_pred_test\u001b[0m\u001b[0;34m)\u001b[0m\u001b[0;34m\u001b[0m\u001b[0;34m\u001b[0m\u001b[0m\n\u001b[1;32m      3\u001b[0m \u001b[0mprint\u001b[0m\u001b[0;34m(\u001b[0m\u001b[0;34m\"== knn accuracy ==\"\u001b[0m\u001b[0;34m)\u001b[0m\u001b[0;34m\u001b[0m\u001b[0;34m\u001b[0m\u001b[0m\n\u001b[1;32m      4\u001b[0m \u001b[0mprint\u001b[0m\u001b[0;34m(\u001b[0m\u001b[0;34m'accuracy knn test: '\u001b[0m\u001b[0;34m,\u001b[0m \u001b[0mknn_tfidf_acc_test\u001b[0m\u001b[0;34m)\u001b[0m\u001b[0;34m\u001b[0m\u001b[0;34m\u001b[0m\u001b[0m\n",
            "\u001b[0;32m/usr/local/lib/python3.10/dist-packages/sklearn/neighbors/_classification.py\u001b[0m in \u001b[0;36mpredict\u001b[0;34m(self, X)\u001b[0m\n\u001b[1;32m    232\u001b[0m             \u001b[0;31m# In that case, we do not need the distances to perform\u001b[0m\u001b[0;34m\u001b[0m\u001b[0;34m\u001b[0m\u001b[0m\n\u001b[1;32m    233\u001b[0m             \u001b[0;31m# the weighting so we do not compute them.\u001b[0m\u001b[0;34m\u001b[0m\u001b[0;34m\u001b[0m\u001b[0m\n\u001b[0;32m--> 234\u001b[0;31m             \u001b[0mneigh_ind\u001b[0m \u001b[0;34m=\u001b[0m \u001b[0mself\u001b[0m\u001b[0;34m.\u001b[0m\u001b[0mkneighbors\u001b[0m\u001b[0;34m(\u001b[0m\u001b[0mX\u001b[0m\u001b[0;34m,\u001b[0m \u001b[0mreturn_distance\u001b[0m\u001b[0;34m=\u001b[0m\u001b[0;32mFalse\u001b[0m\u001b[0;34m)\u001b[0m\u001b[0;34m\u001b[0m\u001b[0;34m\u001b[0m\u001b[0m\n\u001b[0m\u001b[1;32m    235\u001b[0m             \u001b[0mneigh_dist\u001b[0m \u001b[0;34m=\u001b[0m \u001b[0;32mNone\u001b[0m\u001b[0;34m\u001b[0m\u001b[0;34m\u001b[0m\u001b[0m\n\u001b[1;32m    236\u001b[0m         \u001b[0;32melse\u001b[0m\u001b[0;34m:\u001b[0m\u001b[0;34m\u001b[0m\u001b[0;34m\u001b[0m\u001b[0m\n",
            "\u001b[0;32m/usr/local/lib/python3.10/dist-packages/sklearn/neighbors/_base.py\u001b[0m in \u001b[0;36mkneighbors\u001b[0;34m(self, X, n_neighbors, return_distance)\u001b[0m\n\u001b[1;32m    804\u001b[0m                 \u001b[0mX\u001b[0m \u001b[0;34m=\u001b[0m \u001b[0m_check_precomputed\u001b[0m\u001b[0;34m(\u001b[0m\u001b[0mX\u001b[0m\u001b[0;34m)\u001b[0m\u001b[0;34m\u001b[0m\u001b[0;34m\u001b[0m\u001b[0m\n\u001b[1;32m    805\u001b[0m             \u001b[0;32melse\u001b[0m\u001b[0;34m:\u001b[0m\u001b[0;34m\u001b[0m\u001b[0;34m\u001b[0m\u001b[0m\n\u001b[0;32m--> 806\u001b[0;31m                 \u001b[0mX\u001b[0m \u001b[0;34m=\u001b[0m \u001b[0mself\u001b[0m\u001b[0;34m.\u001b[0m\u001b[0m_validate_data\u001b[0m\u001b[0;34m(\u001b[0m\u001b[0mX\u001b[0m\u001b[0;34m,\u001b[0m \u001b[0maccept_sparse\u001b[0m\u001b[0;34m=\u001b[0m\u001b[0;34m\"csr\"\u001b[0m\u001b[0;34m,\u001b[0m \u001b[0mreset\u001b[0m\u001b[0;34m=\u001b[0m\u001b[0;32mFalse\u001b[0m\u001b[0;34m,\u001b[0m \u001b[0morder\u001b[0m\u001b[0;34m=\u001b[0m\u001b[0;34m\"C\"\u001b[0m\u001b[0;34m)\u001b[0m\u001b[0;34m\u001b[0m\u001b[0;34m\u001b[0m\u001b[0m\n\u001b[0m\u001b[1;32m    807\u001b[0m \u001b[0;34m\u001b[0m\u001b[0m\n\u001b[1;32m    808\u001b[0m         \u001b[0mn_samples_fit\u001b[0m \u001b[0;34m=\u001b[0m \u001b[0mself\u001b[0m\u001b[0;34m.\u001b[0m\u001b[0mn_samples_fit_\u001b[0m\u001b[0;34m\u001b[0m\u001b[0;34m\u001b[0m\u001b[0m\n",
            "\u001b[0;32m/usr/local/lib/python3.10/dist-packages/sklearn/base.py\u001b[0m in \u001b[0;36m_validate_data\u001b[0;34m(self, X, y, reset, validate_separately, **check_params)\u001b[0m\n\u001b[1;32m    586\u001b[0m \u001b[0;34m\u001b[0m\u001b[0m\n\u001b[1;32m    587\u001b[0m         \u001b[0;32mif\u001b[0m \u001b[0;32mnot\u001b[0m \u001b[0mno_val_X\u001b[0m \u001b[0;32mand\u001b[0m \u001b[0mcheck_params\u001b[0m\u001b[0;34m.\u001b[0m\u001b[0mget\u001b[0m\u001b[0;34m(\u001b[0m\u001b[0;34m\"ensure_2d\"\u001b[0m\u001b[0;34m,\u001b[0m \u001b[0;32mTrue\u001b[0m\u001b[0;34m)\u001b[0m\u001b[0;34m:\u001b[0m\u001b[0;34m\u001b[0m\u001b[0;34m\u001b[0m\u001b[0m\n\u001b[0;32m--> 588\u001b[0;31m             \u001b[0mself\u001b[0m\u001b[0;34m.\u001b[0m\u001b[0m_check_n_features\u001b[0m\u001b[0;34m(\u001b[0m\u001b[0mX\u001b[0m\u001b[0;34m,\u001b[0m \u001b[0mreset\u001b[0m\u001b[0;34m=\u001b[0m\u001b[0mreset\u001b[0m\u001b[0;34m)\u001b[0m\u001b[0;34m\u001b[0m\u001b[0;34m\u001b[0m\u001b[0m\n\u001b[0m\u001b[1;32m    589\u001b[0m \u001b[0;34m\u001b[0m\u001b[0m\n\u001b[1;32m    590\u001b[0m         \u001b[0;32mreturn\u001b[0m \u001b[0mout\u001b[0m\u001b[0;34m\u001b[0m\u001b[0;34m\u001b[0m\u001b[0m\n",
            "\u001b[0;32m/usr/local/lib/python3.10/dist-packages/sklearn/base.py\u001b[0m in \u001b[0;36m_check_n_features\u001b[0;34m(self, X, reset)\u001b[0m\n\u001b[1;32m    387\u001b[0m \u001b[0;34m\u001b[0m\u001b[0m\n\u001b[1;32m    388\u001b[0m         \u001b[0;32mif\u001b[0m \u001b[0mn_features\u001b[0m \u001b[0;34m!=\u001b[0m \u001b[0mself\u001b[0m\u001b[0;34m.\u001b[0m\u001b[0mn_features_in_\u001b[0m\u001b[0;34m:\u001b[0m\u001b[0;34m\u001b[0m\u001b[0;34m\u001b[0m\u001b[0m\n\u001b[0;32m--> 389\u001b[0;31m             raise ValueError(\n\u001b[0m\u001b[1;32m    390\u001b[0m                 \u001b[0;34mf\"X has {n_features} features, but {self.__class__.__name__} \"\u001b[0m\u001b[0;34m\u001b[0m\u001b[0;34m\u001b[0m\u001b[0m\n\u001b[1;32m    391\u001b[0m                 \u001b[0;34mf\"is expecting {self.n_features_in_} features as input.\"\u001b[0m\u001b[0;34m\u001b[0m\u001b[0;34m\u001b[0m\u001b[0m\n",
            "\u001b[0;31mValueError\u001b[0m: X has 413 features, but KNeighborsClassifier is expecting 964 features as input."
          ]
        }
      ],
      "source": [
        "knn_tfidf_pred_test = knn_tfidf.predict(test_vectors_anies)\n",
        "knn_tfidf_acc_test = accuracy_score(anies['label'], knn_tfidf_pred_test)\n",
        "print(\"== knn accuracy ==\")\n",
        "print('accuracy knn test: ', knn_tfidf_acc_test)"
      ]
    },
    {
      "cell_type": "code",
      "execution_count": null,
      "metadata": {
        "id": "h14LDEhqnFoT"
      },
      "outputs": [],
      "source": [
        "# Membuat dictionary glove_vectors\n",
        "glove_vectors = {}\n",
        "for word in glove_model.key_to_index.keys():\n",
        "    glove_vectors[word] = glove_model[word]\n",
        "\n",
        "# Fungsi untuk mengonversi kalimat menjadi vektor rata-rata GloVe\n",
        "def sentence_to_vec(sentence):\n",
        "    words = sentence.split()\n",
        "    vectors = [glove_vectors[word] for word in words if word in glove_vectors]\n",
        "    return np.mean(vectors, axis=0) if vectors else np.zeros_like(glove_vectors[next(iter(glove_vectors))])\n",
        "\n",
        "# Mengonversi data teks ke vektor GloVe\n",
        "X = np.array([sentence_to_vec(sentence) for sentence in anies['full_text']])\n",
        "y = anies['label']\n",
        "\n",
        "# Pisahkan data\n",
        "X_train_anies, X_test_anies, y_train_anies, y_test_anies = train_test_split(X, y, test_size=1, random_state=42)"
      ]
    },
    {
      "cell_type": "code",
      "execution_count": null,
      "metadata": {
        "colab": {
          "base_uri": "https://localhost:8080/"
        },
        "id": "Lyarq8npnc-N",
        "outputId": "a57db5ba-6b70-455d-a5e7-d99a002c11ee"
      },
      "outputs": [
        {
          "name": "stdout",
          "output_type": "stream",
          "text": [
            "== knn accuracy ==\n",
            "accuracy knn anies:  1.0\n",
            "== svm accuracy ==\n",
            "accuracy svm anies:  1.0\n",
            "== rfc accuracy ==\n",
            "accuracy rfc anies:  1.0\n"
          ]
        }
      ],
      "source": [
        "anies_gv_pred_knn = knn_gv.predict(X_test_anies)\n",
        "anies_gv_acc_knn = accuracy_score(y_test_anies, anies_gv_pred_knn)\n",
        "print('== knn accuracy ==')\n",
        "print('accuracy knn anies: ', anies_gv_acc_knn)\n",
        "\n",
        "anies_gv_pred_svm = svm_gv.predict(X_test_anies)\n",
        "anies_gv_acc_svm = accuracy_score(y_test_anies, anies_gv_pred_svm)\n",
        "print('== svm accuracy ==')\n",
        "print('accuracy svm anies: ', anies_gv_acc_svm)\n",
        "\n",
        "anies_gv_pred_rfc = rfc_gv.predict(X_test_anies)\n",
        "anies_gv_acc_rfc = accuracy_score(y_test_anies, anies_gv_pred_rfc)\n",
        "print('== rfc accuracy ==')\n",
        "print('accuracy rfc anies: ', anies_gv_acc_rfc)"
      ]
    }
  ],
  "metadata": {
    "colab": {
      "provenance": [],
      "toc_visible": true
    },
    "kernelspec": {
      "display_name": "Python 3",
      "name": "python3"
    },
    "language_info": {
      "name": "python"
    }
  },
  "nbformat": 4,
  "nbformat_minor": 0
}
